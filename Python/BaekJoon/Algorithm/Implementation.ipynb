{
 "cells": [
  {
   "cell_type": "code",
   "execution_count": 2,
   "id": "1bd9d0f4",
   "metadata": {
    "ExecuteTime": {
     "end_time": "2023-03-23T13:07:39.967516Z",
     "start_time": "2023-03-23T13:07:33.159644Z"
    }
   },
   "outputs": [
    {
     "name": "stdout",
     "output_type": "stream",
     "text": [
      "5\n",
      "R R R U D D\n",
      "3 4\n"
     ]
    }
   ],
   "source": [
    "# 이코다 p111 상하좌우\n",
    "\n",
    "n = int(input())\n",
    "position = list(map(str, input().split()))\n",
    "x, y = 1, 1\n",
    "\n",
    "for i in position:\n",
    "    if i == 'R' and y < n:\n",
    "        y += 1\n",
    "    elif i == 'L' and y > 1:\n",
    "        y -= 1\n",
    "    elif i == 'U' and x > 1:\n",
    "        x -= 1\n",
    "    elif i == 'D' and x < n:\n",
    "        x += 1\n",
    "    \n",
    "print(x, y)\n",
    "        "
   ]
  },
  {
   "cell_type": "code",
   "execution_count": 54,
   "id": "20ae6c8d",
   "metadata": {
    "ExecuteTime": {
     "end_time": "2023-03-23T13:43:20.059223Z",
     "start_time": "2023-03-23T13:43:19.547298Z"
    }
   },
   "outputs": [
    {
     "name": "stdout",
     "output_type": "stream",
     "text": [
      "5\n",
      "11475\n"
     ]
    }
   ],
   "source": [
    "# 이코다 p113 시각\n",
    "\n",
    "n = int(input())\n",
    "lst = []\n",
    "cnt = 0\n",
    "\n",
    "for _ in range(n+1):\n",
    "    for i in range(60):\n",
    "        for j in range(60):\n",
    "            if '3' in str(_) + str(i) + str(j):\n",
    "                cnt += 1\n",
    "\n",
    "print(cnt)"
   ]
  },
  {
   "cell_type": "code",
   "execution_count": null,
   "id": "24efb99b",
   "metadata": {},
   "outputs": [],
   "source": []
  }
 ],
 "metadata": {
  "kernelspec": {
   "display_name": "Python 3 (ipykernel)",
   "language": "python",
   "name": "python3"
  },
  "language_info": {
   "codemirror_mode": {
    "name": "ipython",
    "version": 3
   },
   "file_extension": ".py",
   "mimetype": "text/x-python",
   "name": "python",
   "nbconvert_exporter": "python",
   "pygments_lexer": "ipython3",
   "version": "3.8.9"
  }
 },
 "nbformat": 4,
 "nbformat_minor": 5
}
