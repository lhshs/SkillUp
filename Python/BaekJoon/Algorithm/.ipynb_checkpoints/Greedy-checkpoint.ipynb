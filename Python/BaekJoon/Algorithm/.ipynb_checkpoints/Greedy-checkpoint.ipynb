{
 "cells": [
  {
   "cell_type": "code",
   "execution_count": 2,
   "id": "aaf67b67",
   "metadata": {
    "ExecuteTime": {
     "end_time": "2023-03-02T13:30:34.744944Z",
     "start_time": "2023-03-02T13:30:34.295207Z"
    }
   },
   "outputs": [
    {
     "name": "stdout",
     "output_type": "stream",
     "text": [
      "1\n",
      "15\n"
     ]
    }
   ],
   "source": [
    "# 5585 거스름돈\n",
    "\n",
    "n = 1000 - int(input())\n",
    "lst = [500, 100, 50, 10, 5, 1]\n",
    "cnt = 0\n",
    "\n",
    "for i in lst:\n",
    "    cnt += n // i\n",
    "    n %= i\n",
    "    \n",
    "print(cnt)"
   ]
  },
  {
   "cell_type": "code",
   "execution_count": 18,
   "id": "3e555d5a",
   "metadata": {
    "ExecuteTime": {
     "end_time": "2023-03-02T13:55:47.761867Z",
     "start_time": "2023-03-02T13:55:35.500094Z"
    }
   },
   "outputs": [
    {
     "name": "stdout",
     "output_type": "stream",
     "text": [
      "5 7 2\n",
      "3 4 3 4 3\n",
      "1\n",
      "2\n",
      "0\n",
      "1\n",
      "2\n",
      "0\n",
      "1\n",
      "28\n"
     ]
    }
   ],
   "source": [
    "# 이코다 p92 큰 수의 법칙\n",
    "\n",
    "n, m, k = map(int, input().split())   # 5, 8, 3\n",
    "lst = list(map(int, input().split()))  # 2 4 5 4 6\n",
    "lst.sort(reverse = True)\n",
    "\n",
    "a = lst[0]\n",
    "b = lst[1]\n",
    "total = 0\n",
    "cnt = 0\n",
    "\n",
    "for i in range(m):\n",
    "    cnt += 1\n",
    "    if cnt > k:\n",
    "        total += b\n",
    "        cnt = 0\n",
    "    else:\n",
    "        total += a\n",
    "    print(cnt)\n",
    "        \n",
    "print(total)\n",
    "    \n"
   ]
  },
  {
   "cell_type": "code",
   "execution_count": 4,
   "id": "bfe6d1bd",
   "metadata": {
    "ExecuteTime": {
     "end_time": "2023-03-04T10:42:22.866154Z",
     "start_time": "2023-03-04T10:42:11.985925Z"
    }
   },
   "outputs": [
    {
     "name": "stdout",
     "output_type": "stream",
     "text": [
      "3 3\n",
      "3 1 2\n",
      "4 1 4\n",
      "2 2 2\n",
      "2\n"
     ]
    }
   ],
   "source": [
    "# 이코다 p96 숫자 카드 게임\n",
    "\n",
    "n, m = map(int, input().split())\n",
    "result = 0\n",
    "\n",
    "for i in range(n):\n",
    "    data = list(map(int, input().split()))\n",
    "\n",
    "\n",
    "min_value = min(data)\n",
    "result = max(result, min_value)\n",
    "\n",
    "print(result)\n",
    "\n",
    "\n"
   ]
  },
  {
   "cell_type": "code",
   "execution_count": 4,
   "id": "28963155",
   "metadata": {
    "ExecuteTime": {
     "end_time": "2023-03-19T07:19:59.682932Z",
     "start_time": "2023-03-19T07:19:56.427648Z"
    }
   },
   "outputs": [
    {
     "name": "stdout",
     "output_type": "stream",
     "text": [
      "1430 4862\n",
      "6282 6292\n"
     ]
    }
   ],
   "source": [
    "# 2364 5와 6의 차이\n",
    "\n",
    "n, m = map(str, input().split())\n",
    "\n",
    "min1 = int(n.replace('6', '5'))\n",
    "min2 = int(m.replace('6', '5'))\n",
    "min_sum = min1 + min2\n",
    "\n",
    "max1 = int(n.replace('5', '6'))\n",
    "max2 = int(m.replace('5', '6'))\n",
    "max_sum = max1 + max2\n",
    "\n",
    "print(min_sum, max_sum)"
   ]
  },
  {
   "cell_type": "code",
   "execution_count": 2,
   "id": "38ba0495",
   "metadata": {
    "ExecuteTime": {
     "end_time": "2023-03-23T09:41:55.965877Z",
     "start_time": "2023-03-23T09:41:52.733587Z"
    }
   },
   "outputs": [
    {
     "name": "stdout",
     "output_type": "stream",
     "text": [
      "7\n",
      "0 1 2 0 1 2 0\n",
      "7\n"
     ]
    }
   ],
   "source": [
    "# 14720 우유 축제\n",
    "\n",
    "n = int(input())\n",
    "store = list(map(int, input().split()))\n",
    "cnt = 0\n",
    "\n",
    "for i in range(n):\n",
    "    if store[i] == (cnt % 3):\n",
    "        cnt += 1\n",
    "        \n",
    "print(cnt)"
   ]
  },
  {
   "cell_type": "code",
   "execution_count": 6,
   "id": "4a7aad2c",
   "metadata": {
    "ExecuteTime": {
     "end_time": "2023-03-22T09:35:39.246580Z",
     "start_time": "2023-03-22T09:35:37.878134Z"
    }
   },
   "outputs": [
    {
     "name": "stdout",
     "output_type": "stream",
     "text": [
      "25 3\n",
      "6\n"
     ]
    }
   ],
   "source": [
    "# 이코다 p99 1이 될 때까지\n",
    "\n",
    "n, k = map(int, input().split())\n",
    "cnt = 0\n",
    "\n",
    "# print(n % k)\n",
    "\n",
    "\n",
    "while n != 1:\n",
    "    if n % k != 0:\n",
    "        n -= 1\n",
    "        cnt += 1\n",
    "    elif n % k == 0:\n",
    "        n = n // k  # -> n //= k\n",
    "        cnt += 1\n",
    "        \n",
    "\n",
    "print(cnt)\n",
    "    "
   ]
  },
  {
   "cell_type": "code",
   "execution_count": 15,
   "id": "84b3168b",
   "metadata": {
    "ExecuteTime": {
     "end_time": "2023-03-23T10:31:30.556635Z",
     "start_time": "2023-03-23T10:31:26.093504Z"
    }
   },
   "outputs": [
    {
     "name": "stdout",
     "output_type": "stream",
     "text": [
      "3\n",
      "124\n",
      "4 2 0 4\n",
      "25\n",
      "1 0 0 0\n",
      "194\n",
      "7 1 1 4\n"
     ]
    }
   ],
   "source": [
    "# 2720 세탁소 사장 동혁\n",
    "\n",
    "t = int(input())\n",
    "quar = 25\n",
    "dime = 10\n",
    "nick = 5\n",
    "penny = 1\n",
    "\n",
    "\n",
    "for i in range(t):\n",
    "    price = int(input())\n",
    "    while price != 0:\n",
    "        a = price // quar\n",
    "        price = price % quar\n",
    "        \n",
    "        b = price // dime\n",
    "        price = price % dime\n",
    "        \n",
    "        c = price // nick\n",
    "        price = price % nick\n",
    "        \n",
    "        d = price // penny\n",
    "        price = price % penny\n",
    "    \n",
    "    print(a, b, c, d)"
   ]
  },
  {
   "cell_type": "code",
   "execution_count": 17,
   "id": "c49631aa",
   "metadata": {
    "ExecuteTime": {
     "end_time": "2023-03-23T10:35:42.823119Z",
     "start_time": "2023-03-23T10:35:37.187042Z"
    }
   },
   "outputs": [
    {
     "name": "stdout",
     "output_type": "stream",
     "text": [
      "3\n",
      "124\n",
      "4 2 0 4\n",
      "25\n",
      "1 0 0 0\n",
      "194\n",
      "7 1 1 4\n"
     ]
    }
   ],
   "source": [
    "# 2720 다른 풀이\n",
    "\n",
    "t = int(input())\n",
    "changes = [25, 10, 5, 1]\n",
    "\n",
    "for i in range(t):\n",
    "    price = int(input())\n",
    "    result = []\n",
    "    for j in changes:                # 잔돈 목록을 list화 하여 for 문으로 하나씩 참조\n",
    "        result.append(price // j)\n",
    "        price = price % j\n",
    "    \n",
    "    print(*result)                   # list 대괄호, 콤마 없이 출력"
   ]
  },
  {
   "cell_type": "code",
   "execution_count": 25,
   "id": "9f367f03",
   "metadata": {
    "ExecuteTime": {
     "end_time": "2023-03-23T12:36:14.772589Z",
     "start_time": "2023-03-23T12:36:14.402834Z"
    }
   },
   "outputs": [
    {
     "name": "stdout",
     "output_type": "stream",
     "text": [
      "6\n",
      "2\n"
     ]
    }
   ],
   "source": [
    "# 2839 설탕 배달\n",
    "\n",
    "n = int(input())\n",
    "cnt = 0\n",
    "\n",
    "while n >= 0:\n",
    "    if n % 5 == 0:\n",
    "        cnt = n // 5 + cnt\n",
    "        break\n",
    "    elif n % 5 != 0 and n >= 3:\n",
    "        n -= 3\n",
    "        cnt += 1\n",
    "    else:\n",
    "        cnt = -1\n",
    "        break\n",
    "\n",
    "print(cnt)\n",
    "        \n",
    "\n"
   ]
  },
  {
   "cell_type": "code",
   "execution_count": 13,
   "id": "2635b1b9",
   "metadata": {
    "ExecuteTime": {
     "end_time": "2023-03-24T06:55:45.446587Z",
     "start_time": "2023-03-24T06:55:44.206922Z"
    }
   },
   "outputs": [
    {
     "name": "stdout",
     "output_type": "stream",
     "text": [
      "5\n",
      "3 1 4 3 2\n",
      "32\n"
     ]
    }
   ],
   "source": [
    "# 11399 ATM\n",
    "\n",
    "n = int(input())\n",
    "lst = list(map(int, input().split()))\n",
    "lst.sort()\n",
    "res = 0\n",
    "\n",
    "for i in range(n):\n",
    "    res += sum(lst[:i+1])\n",
    "    \n",
    "print(res)"
   ]
  },
  {
   "cell_type": "code",
   "execution_count": 8,
   "id": "55af69bb",
   "metadata": {
    "ExecuteTime": {
     "end_time": "2023-03-24T06:54:45.330934Z",
     "start_time": "2023-03-24T06:54:45.317969Z"
    }
   },
   "outputs": [
    {
     "data": {
      "text/plain": [
       "9"
      ]
     },
     "execution_count": 8,
     "metadata": {},
     "output_type": "execute_result"
    }
   ],
   "source": [
    "ll = [1,5,3]\n",
    "ll.sort()\n",
    "# sorted(ll)\n",
    "sum(ll)"
   ]
  },
  {
   "cell_type": "code",
   "execution_count": 15,
   "id": "1eb3beed",
   "metadata": {
    "ExecuteTime": {
     "end_time": "2023-03-27T12:01:35.571592Z",
     "start_time": "2023-03-27T12:01:23.136950Z"
    },
    "scrolled": false
   },
   "outputs": [
    {
     "name": "stdout",
     "output_type": "stream",
     "text": [
      "10 4790\n",
      "1\n",
      "5\n",
      "10\n",
      "50\n",
      "100\n",
      "500\n",
      "1000\n",
      "5000\n",
      "10000\n",
      "50000\n",
      "12\n"
     ]
    }
   ],
   "source": [
    "# 11047 동전 0\n",
    "\n",
    "n, k = map(int, input().split())\n",
    "coin = []\n",
    "for i in range(n):\n",
    "    coin.append(int(input()))\n",
    "    \n",
    "# coin = [1, 5, 10, 50, 100, 500, 1000, 5000, 10000, 50000]\n",
    "# coin = coin[:n+1]\n",
    "\n",
    "cnt = 0\n",
    "\n",
    "for i in reversed(range(n)):    # reversed 함수에 대한 인지, range(n, 0, -1) 보다 빠름\n",
    "    cnt += k // coin[i]\n",
    "    k %= coin[i]\n",
    "                    \n",
    "print(cnt)"
   ]
  },
  {
   "cell_type": "code",
   "execution_count": 49,
   "id": "be42ed6f",
   "metadata": {
    "ExecuteTime": {
     "end_time": "2023-03-27T12:33:35.891736Z",
     "start_time": "2023-03-27T12:33:34.342976Z"
    }
   },
   "outputs": [
    {
     "name": "stdout",
     "output_type": "stream",
     "text": [
      "1\n",
      "1 5\n",
      "[1, 5]\n"
     ]
    }
   ],
   "source": [
    "# 1931 회의실 배정\n",
    "\n",
    "n = int(input())\n",
    "# time = list(tuple(map(int, input().split())))\n",
    "time = [(1,4), (3,5), (0,6), (5,7)]\n",
    "\n",
    "# ll = [(4,5), (8,0)]\n",
    "# ll[0][0]\n",
    "cnt = 0\n",
    "for i in range(n):\n",
    "    if time[i] > time[i]\n",
    "\n",
    "print(time)\n",
    "\n",
    "## 다시 풀기"
   ]
  },
  {
   "cell_type": "code",
   "execution_count": null,
   "id": "3afc6783",
   "metadata": {},
   "outputs": [],
   "source": []
  }
 ],
 "metadata": {
  "kernelspec": {
   "display_name": "Python 3 (ipykernel)",
   "language": "python",
   "name": "python3"
  },
  "language_info": {
   "codemirror_mode": {
    "name": "ipython",
    "version": 3
   },
   "file_extension": ".py",
   "mimetype": "text/x-python",
   "name": "python",
   "nbconvert_exporter": "python",
   "pygments_lexer": "ipython3",
   "version": "3.8.9"
  },
  "toc": {
   "base_numbering": 1,
   "nav_menu": {},
   "number_sections": false,
   "sideBar": true,
   "skip_h1_title": false,
   "title_cell": "Table of Contents",
   "title_sidebar": "Contents",
   "toc_cell": false,
   "toc_position": {},
   "toc_section_display": true,
   "toc_window_display": false
  }
 },
 "nbformat": 4,
 "nbformat_minor": 5
}
