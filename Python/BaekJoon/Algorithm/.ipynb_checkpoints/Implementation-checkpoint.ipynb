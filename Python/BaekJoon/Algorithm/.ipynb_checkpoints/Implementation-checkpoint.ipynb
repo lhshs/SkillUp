{
 "cells": [
  {
   "cell_type": "code",
   "execution_count": 2,
   "id": "1bd9d0f4",
   "metadata": {
    "ExecuteTime": {
     "end_time": "2023-03-23T13:07:39.967516Z",
     "start_time": "2023-03-23T13:07:33.159644Z"
    }
   },
   "outputs": [
    {
     "name": "stdout",
     "output_type": "stream",
     "text": [
      "5\n",
      "R R R U D D\n",
      "3 4\n"
     ]
    }
   ],
   "source": [
    "# 이코다 p111 상하좌우\n",
    "\n",
    "n = int(input())\n",
    "position = list(map(str, input().split()))\n",
    "x, y = 1, 1\n",
    "\n",
    "for i in position:\n",
    "    if i == 'R' and y < n:\n",
    "        y += 1\n",
    "    elif i == 'L' and y > 1:\n",
    "        y -= 1\n",
    "    elif i == 'U' and x > 1:\n",
    "        x -= 1\n",
    "    elif i == 'D' and x < n:\n",
    "        x += 1\n",
    "    \n",
    "print(x, y)\n",
    "        "
   ]
  },
  {
   "cell_type": "code",
   "execution_count": 54,
   "id": "20ae6c8d",
   "metadata": {
    "ExecuteTime": {
     "end_time": "2023-03-23T13:43:20.059223Z",
     "start_time": "2023-03-23T13:43:19.547298Z"
    }
   },
   "outputs": [
    {
     "name": "stdout",
     "output_type": "stream",
     "text": [
      "5\n",
      "11475\n"
     ]
    }
   ],
   "source": [
    "# 이코다 p113 시각\n",
    "\n",
    "n = int(input())\n",
    "lst = []\n",
    "cnt = 0\n",
    "\n",
    "for _ in range(n+1):\n",
    "    for i in range(60):\n",
    "        for j in range(60):\n",
    "            if '3' in str(_) + str(i) + str(j):\n",
    "                cnt += 1\n",
    "\n",
    "print(cnt)"
   ]
  },
  {
   "cell_type": "code",
   "execution_count": 1,
   "id": "581c9520",
   "metadata": {
    "ExecuteTime": {
     "end_time": "2023-03-24T06:59:37.018719Z",
     "start_time": "2023-03-24T06:59:36.292315Z"
    }
   },
   "outputs": [
    {
     "name": "stdout",
     "output_type": "stream",
     "text": [
      "5\n",
      "5\n",
      "4\n",
      "3\n",
      "2\n",
      "1\n"
     ]
    }
   ],
   "source": [
    "# 2742 기찍 N\n",
    "\n",
    "n = int(input())\n",
    "\n",
    "for i in range(n):\n",
    "    print(n - i)\n"
   ]
  },
  {
   "cell_type": "code",
   "execution_count": 18,
   "id": "7eda58cd",
   "metadata": {
    "ExecuteTime": {
     "end_time": "2023-03-24T07:11:07.597350Z",
     "start_time": "2023-03-24T07:11:04.845620Z"
    }
   },
   "outputs": [
    {
     "name": "stdout",
     "output_type": "stream",
     "text": [
      "150\n",
      "266\n",
      "427\n",
      "3\n",
      "1\n",
      "0\n",
      "2\n",
      "0\n",
      "0\n",
      "0\n",
      "2\n",
      "0\n",
      "0\n"
     ]
    }
   ],
   "source": [
    "# 2577 숫자의 개수\n",
    "\n",
    "a = int(input())\n",
    "b = int(input())\n",
    "c = int(input())\n",
    "abc = str(a*b*c)\n",
    "lst = [0, 1, 2, 3, 4, 5, 6, 7, 8, 9]\n",
    "res = []\n",
    "\n",
    "for i in lst:\n",
    "    i = str(i)\n",
    "    res.append(abc.count(i))\n",
    "    \n",
    "print(*res, sep='\\n')"
   ]
  },
  {
   "cell_type": "code",
   "execution_count": 11,
   "id": "b1be699a",
   "metadata": {
    "ExecuteTime": {
     "end_time": "2023-03-24T07:07:39.978720Z",
     "start_time": "2023-03-24T07:07:39.948909Z"
    }
   },
   "outputs": [
    {
     "data": {
      "text/plain": [
       "2"
      ]
     },
     "execution_count": 11,
     "metadata": {},
     "output_type": "execute_result"
    }
   ],
   "source": [
    "a = '1231'\n",
    "a.count('1')"
   ]
  },
  {
   "cell_type": "code",
   "execution_count": 15,
   "id": "0e13cab6",
   "metadata": {
    "ExecuteTime": {
     "end_time": "2023-03-24T07:10:25.306677Z",
     "start_time": "2023-03-24T07:10:25.298627Z"
    }
   },
   "outputs": [
    {
     "name": "stdout",
     "output_type": "stream",
     "text": [
      "Help on built-in function print in module builtins:\n",
      "\n",
      "print(...)\n",
      "    print(value, ..., sep=' ', end='\\n', file=sys.stdout, flush=False)\n",
      "    \n",
      "    Prints the values to a stream, or to sys.stdout by default.\n",
      "    Optional keyword arguments:\n",
      "    file:  a file-like object (stream); defaults to the current sys.stdout.\n",
      "    sep:   string inserted between values, default a space.\n",
      "    end:   string appended after the last value, default a newline.\n",
      "    flush: whether to forcibly flush the stream.\n",
      "\n"
     ]
    }
   ],
   "source": [
    "help(print)"
   ]
  },
  {
   "cell_type": "code",
   "execution_count": 22,
   "id": "77ab0df7",
   "metadata": {
    "ExecuteTime": {
     "end_time": "2023-03-24T07:21:47.876561Z",
     "start_time": "2023-03-24T07:21:47.040338Z"
    }
   },
   "outputs": [
    {
     "name": "stdout",
     "output_type": "stream",
     "text": [
      "0\n",
      "1\n"
     ]
    }
   ],
   "source": [
    "# 10872 팩토리얼, 반복문 사용\n",
    "\n",
    "n = int(input())\n",
    "res = 1\n",
    "\n",
    "for i in range(1, n):\n",
    "    res *= i\n",
    "    \n",
    "print(res)"
   ]
  },
  {
   "cell_type": "code",
   "execution_count": null,
   "id": "8abcbc1f",
   "metadata": {
    "ExecuteTime": {
     "start_time": "2023-03-24T07:24:35.436Z"
    }
   },
   "outputs": [],
   "source": [
    "# 10872 팩토리얼, 재귀 함수 사용\n",
    "\n",
    "def my_factorial(n):\n",
    "    if n > 1:\n",
    "        return n * my_factorial(n-1)\n",
    "    else:\n",
    "        return 1\n",
    "    \n",
    "my_factorial(13235)\n"
   ]
  },
  {
   "cell_type": "code",
   "execution_count": null,
   "id": "5cd92222",
   "metadata": {},
   "outputs": [],
   "source": []
  }
 ],
 "metadata": {
  "kernelspec": {
   "display_name": "Python 3 (ipykernel)",
   "language": "python",
   "name": "python3"
  },
  "language_info": {
   "codemirror_mode": {
    "name": "ipython",
    "version": 3
   },
   "file_extension": ".py",
   "mimetype": "text/x-python",
   "name": "python",
   "nbconvert_exporter": "python",
   "pygments_lexer": "ipython3",
   "version": "3.8.9"
  }
 },
 "nbformat": 4,
 "nbformat_minor": 5
}
