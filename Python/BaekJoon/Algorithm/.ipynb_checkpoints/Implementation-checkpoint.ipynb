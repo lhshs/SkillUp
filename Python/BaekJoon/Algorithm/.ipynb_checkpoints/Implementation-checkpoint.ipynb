{
 "cells": [
  {
   "cell_type": "code",
   "execution_count": 2,
   "id": "1bd9d0f4",
   "metadata": {
    "ExecuteTime": {
     "end_time": "2023-03-23T13:07:39.967516Z",
     "start_time": "2023-03-23T13:07:33.159644Z"
    }
   },
   "outputs": [
    {
     "name": "stdout",
     "output_type": "stream",
     "text": [
      "5\n",
      "R R R U D D\n",
      "3 4\n"
     ]
    }
   ],
   "source": [
    "# 이코다 p111 상하좌우\n",
    "\n",
    "n = int(input())\n",
    "position = list(map(str, input().split()))\n",
    "x, y = 1, 1\n",
    "\n",
    "for i in position:\n",
    "    if i == 'R' and y < n:\n",
    "        y += 1\n",
    "    elif i == 'L' and y > 1:\n",
    "        y -= 1\n",
    "    elif i == 'U' and x > 1:\n",
    "        x -= 1\n",
    "    elif i == 'D' and x < n:\n",
    "        x += 1\n",
    "    \n",
    "print(x, y)\n",
    "        "
   ]
  },
  {
   "cell_type": "code",
   "execution_count": 54,
   "id": "20ae6c8d",
   "metadata": {
    "ExecuteTime": {
     "end_time": "2023-03-23T13:43:20.059223Z",
     "start_time": "2023-03-23T13:43:19.547298Z"
    }
   },
   "outputs": [
    {
     "name": "stdout",
     "output_type": "stream",
     "text": [
      "5\n",
      "11475\n"
     ]
    }
   ],
   "source": [
    "# 이코다 p113 시각\n",
    "\n",
    "n = int(input())\n",
    "lst = []\n",
    "cnt = 0\n",
    "\n",
    "for _ in range(n+1):\n",
    "    for i in range(60):\n",
    "        for j in range(60):\n",
    "            if '3' in str(_) + str(i) + str(j):\n",
    "                cnt += 1\n",
    "\n",
    "print(cnt)"
   ]
  },
  {
   "cell_type": "code",
   "execution_count": 1,
   "id": "581c9520",
   "metadata": {
    "ExecuteTime": {
     "end_time": "2023-03-24T06:59:37.018719Z",
     "start_time": "2023-03-24T06:59:36.292315Z"
    }
   },
   "outputs": [
    {
     "name": "stdout",
     "output_type": "stream",
     "text": [
      "5\n",
      "5\n",
      "4\n",
      "3\n",
      "2\n",
      "1\n"
     ]
    }
   ],
   "source": [
    "# 2742 기찍 N\n",
    "\n",
    "n = int(input())\n",
    "\n",
    "for i in range(n):\n",
    "    print(n - i)\n"
   ]
  },
  {
   "cell_type": "code",
   "execution_count": 18,
   "id": "7eda58cd",
   "metadata": {
    "ExecuteTime": {
     "end_time": "2023-03-24T07:11:07.597350Z",
     "start_time": "2023-03-24T07:11:04.845620Z"
    }
   },
   "outputs": [
    {
     "name": "stdout",
     "output_type": "stream",
     "text": [
      "150\n",
      "266\n",
      "427\n",
      "3\n",
      "1\n",
      "0\n",
      "2\n",
      "0\n",
      "0\n",
      "0\n",
      "2\n",
      "0\n",
      "0\n"
     ]
    }
   ],
   "source": [
    "# 2577 숫자의 개수\n",
    "\n",
    "a = int(input())\n",
    "b = int(input())\n",
    "c = int(input())\n",
    "abc = str(a*b*c)\n",
    "lst = [0, 1, 2, 3, 4, 5, 6, 7, 8, 9]\n",
    "res = []\n",
    "\n",
    "for i in lst:\n",
    "    i = str(i)\n",
    "    res.append(abc.count(i))\n",
    "    \n",
    "print(*res, sep='\\n')"
   ]
  },
  {
   "cell_type": "code",
   "execution_count": 11,
   "id": "b1be699a",
   "metadata": {
    "ExecuteTime": {
     "end_time": "2023-03-24T07:07:39.978720Z",
     "start_time": "2023-03-24T07:07:39.948909Z"
    }
   },
   "outputs": [
    {
     "data": {
      "text/plain": [
       "2"
      ]
     },
     "execution_count": 11,
     "metadata": {},
     "output_type": "execute_result"
    }
   ],
   "source": [
    "a = '1231'\n",
    "a.count('1')"
   ]
  },
  {
   "cell_type": "code",
   "execution_count": 15,
   "id": "0e13cab6",
   "metadata": {
    "ExecuteTime": {
     "end_time": "2023-03-24T07:10:25.306677Z",
     "start_time": "2023-03-24T07:10:25.298627Z"
    }
   },
   "outputs": [
    {
     "name": "stdout",
     "output_type": "stream",
     "text": [
      "Help on built-in function print in module builtins:\n",
      "\n",
      "print(...)\n",
      "    print(value, ..., sep=' ', end='\\n', file=sys.stdout, flush=False)\n",
      "    \n",
      "    Prints the values to a stream, or to sys.stdout by default.\n",
      "    Optional keyword arguments:\n",
      "    file:  a file-like object (stream); defaults to the current sys.stdout.\n",
      "    sep:   string inserted between values, default a space.\n",
      "    end:   string appended after the last value, default a newline.\n",
      "    flush: whether to forcibly flush the stream.\n",
      "\n"
     ]
    }
   ],
   "source": [
    "help(print)"
   ]
  },
  {
   "cell_type": "code",
   "execution_count": 4,
   "id": "77ab0df7",
   "metadata": {
    "ExecuteTime": {
     "end_time": "2023-03-24T07:26:44.850823Z",
     "start_time": "2023-03-24T07:26:43.151285Z"
    }
   },
   "outputs": [
    {
     "name": "stdout",
     "output_type": "stream",
     "text": [
      "10\n",
      "3628800\n"
     ]
    }
   ],
   "source": [
    "# 10872 팩토리얼, 반복문 사용\n",
    "\n",
    "n = int(input())\n",
    "res = 1\n",
    "\n",
    "for i in range(1, n+1):\n",
    "    res *= i\n",
    "    \n",
    "print(res)"
   ]
  },
  {
   "cell_type": "code",
   "execution_count": 2,
   "id": "8abcbc1f",
   "metadata": {
    "ExecuteTime": {
     "end_time": "2023-03-24T07:25:32.014802Z",
     "start_time": "2023-03-24T07:25:32.001838Z"
    }
   },
   "outputs": [
    {
     "data": {
      "text/plain": [
       "3628800"
      ]
     },
     "execution_count": 2,
     "metadata": {},
     "output_type": "execute_result"
    }
   ],
   "source": [
    "# 10872 팩토리얼, 재귀 함수 사용\n",
    "\n",
    "def my_factorial(n):\n",
    "    if n > 1:\n",
    "        return n * my_factorial(n-1)\n",
    "    else:\n",
    "        return 1\n",
    "    \n",
    "my_factorial(10)\n"
   ]
  },
  {
   "cell_type": "code",
   "execution_count": 3,
   "id": "5cd92222",
   "metadata": {
    "ExecuteTime": {
     "end_time": "2023-03-28T05:16:28.778742Z",
     "start_time": "2023-03-28T05:16:28.192213Z"
    }
   },
   "outputs": [
    {
     "name": "stdout",
     "output_type": "stream",
     "text": [
      "c2\n",
      "6\n"
     ]
    }
   ],
   "source": [
    "# 이코다 p115 왕실의 나이트\n",
    "\n",
    "user = input()\n",
    "res = 0\n",
    "\n",
    "if user[0] == 'a' or user[0] == 'h':\n",
    "    if user[1] == '1' or user[1] == '8':\n",
    "        res = 2\n",
    "    elif user[1] == '2' or user[1] == '7':\n",
    "        res = 3\n",
    "    else:\n",
    "        res = 4\n",
    "elif user[0] == 'b' or user[0] == 'g':\n",
    "    if user[1] == '1' or user[1] == '8':\n",
    "        res = 3\n",
    "    elif user[1] == '2' or user[1] == '7':\n",
    "        res = 4\n",
    "    else:\n",
    "        res = 6\n",
    "else:\n",
    "    if user[1] == '1' or user[1] == '8':\n",
    "        res = 4\n",
    "    else:\n",
    "        res = 6\n",
    "\n",
    "print(res)\n",
    "    "
   ]
  },
  {
   "cell_type": "code",
   "execution_count": 19,
   "id": "a509d2b8",
   "metadata": {
    "ExecuteTime": {
     "end_time": "2023-03-28T05:31:29.342317Z",
     "start_time": "2023-03-28T05:31:28.515427Z"
    }
   },
   "outputs": [
    {
     "name": "stdout",
     "output_type": "stream",
     "text": [
      "a1\n",
      "2\n"
     ]
    }
   ],
   "source": [
    "# 이코다 p115 왕실의 나이트 교재 풀이\n",
    "\n",
    "user = input()\n",
    "column = int(ord(user[0])) - int(ord('a')) + 1     # a 값을 1로 잡아주기 위해 + 1\n",
    "row = int(user[1])\n",
    "\n",
    "steps = [(-2,-1), (-1, -2), (-2, 1), (1, -2), (2, -1), (-1, 2), (2, 1), (1, 2)]\n",
    "\n",
    "res = 0\n",
    "for i in steps:\n",
    "    next_row = row + i[0]\n",
    "    next_col = column + i[1]\n",
    "    if next_row >= 1 and next_row <= 8 and next_col >= 1 and next_col <= 8:\n",
    "        res += 1\n",
    "\n",
    "\n",
    "print(res)\n",
    "    "
   ]
  },
  {
   "cell_type": "code",
   "execution_count": 38,
   "id": "ca26aa93",
   "metadata": {
    "ExecuteTime": {
     "end_time": "2023-03-28T06:44:55.650555Z",
     "start_time": "2023-03-28T06:44:53.644880Z"
    }
   },
   "outputs": [
    {
     "name": "stdout",
     "output_type": "stream",
     "text": [
      "2\n",
      "1\n",
      "3\n",
      "6\n",
      "2\n",
      "3\n",
      "10\n"
     ]
    }
   ],
   "source": [
    "# 2775 부녀회장이 될테야\n",
    "\n",
    "t = int(input())\n",
    "\n",
    "\n",
    "for i in range(t):\n",
    "    res = 0\n",
    "    k = int(input())   # 층\n",
    "    n = int(input())   # 호\n",
    "    f0 = [i for i in range(1, n+1)] # 0층 1호 부터 n호까지 사람\n",
    "    \n",
    "    for j in range(k):\n",
    "        for x in range(1, n): \n",
    "            f0[x] += f0[x-1]   # 앞 호수만큼 사람 수 더해준 다음 f0 리스트에서 변경 \n",
    "                               # -> 이걸 위에 for 문으로 반복함으로써 층수만큼 반복하게 됨\n",
    "            \n",
    "    print(f0[-1])\n",
    "    "
   ]
  },
  {
   "cell_type": "code",
   "execution_count": 20,
   "id": "9b4d39e4",
   "metadata": {
    "ExecuteTime": {
     "end_time": "2023-03-28T06:21:39.861797Z",
     "start_time": "2023-03-28T06:21:39.850407Z"
    }
   },
   "outputs": [
    {
     "name": "stdout",
     "output_type": "stream",
     "text": [
      "0\n",
      "1\n"
     ]
    }
   ],
   "source": [
    "for i in range(2):\n",
    "    print(i)"
   ]
  },
  {
   "cell_type": "code",
   "execution_count": null,
   "id": "b38653e1",
   "metadata": {},
   "outputs": [],
   "source": [
    "# 이코다 p118 게임 개발\n",
    "\n"
   ]
  },
  {
   "cell_type": "code",
   "execution_count": 18,
   "id": "51311ce5",
   "metadata": {
    "ExecuteTime": {
     "end_time": "2023-03-29T10:19:08.208175Z",
     "start_time": "2023-03-29T10:19:07.334929Z"
    }
   },
   "outputs": [
    {
     "name": "stdout",
     "output_type": "stream",
     "text": [
      "5\n",
      "    *\n",
      "   ***\n",
      "  *****\n",
      " *******\n",
      "*********\n"
     ]
    }
   ],
   "source": [
    "# 2442 별 찍기-5\n",
    "\n",
    "n = int(input())\n",
    "\n",
    "for i in range(1, n+1):\n",
    "    print((n-i) * ' ' + i * '*' + (i-1) * '*')\n",
    "    "
   ]
  },
  {
   "cell_type": "code",
   "execution_count": 25,
   "id": "886732f2",
   "metadata": {
    "ExecuteTime": {
     "end_time": "2023-03-29T10:26:20.575723Z",
     "start_time": "2023-03-29T10:26:11.016575Z"
    }
   },
   "outputs": [
    {
     "name": "stdout",
     "output_type": "stream",
     "text": [
      "10\n",
      "1\n",
      "[1]\n",
      "3\n",
      "[1, 3]\n",
      "5\n",
      "[1, 3, 5]\n",
      "4\n",
      "[1, 3, 5, 4]\n",
      "0\n",
      "[1, 3, 5]\n",
      "0\n",
      "[1, 3]\n",
      "7\n",
      "[1, 3, 7]\n",
      "0\n",
      "[1, 3]\n",
      "0\n",
      "[1]\n",
      "6\n",
      "[1, 6]\n",
      "7\n"
     ]
    }
   ],
   "source": [
    "# 10773 제로\n",
    "\n",
    "k = int(input())\n",
    "lst = []\n",
    "\n",
    "for i in range(k):\n",
    "    n = int(input())\n",
    "    if n != 0:\n",
    "        lst.append(n)\n",
    "    elif n == 0:\n",
    "        lst.pop()\n",
    "\n",
    "print(sum(lst))"
   ]
  },
  {
   "cell_type": "code",
   "execution_count": 6,
   "id": "351ccce6",
   "metadata": {
    "ExecuteTime": {
     "end_time": "2023-03-31T07:54:11.646182Z",
     "start_time": "2023-03-31T07:54:10.870898Z"
    }
   },
   "outputs": [
    {
     "name": "stdout",
     "output_type": "stream",
     "text": [
      "5\n",
      "*****\n",
      "****\n",
      "***\n",
      "**\n",
      "*\n"
     ]
    }
   ],
   "source": [
    "# 2440 별 찍기-3\n",
    "\n",
    "n = int(input())\n",
    "\n",
    "for i in reversed(range(1, n+1)):\n",
    "    print(i * '*')"
   ]
  },
  {
   "cell_type": "code",
   "execution_count": 14,
   "id": "adcb641e",
   "metadata": {
    "ExecuteTime": {
     "end_time": "2023-03-31T07:58:55.552928Z",
     "start_time": "2023-03-31T07:58:53.212952Z"
    }
   },
   "outputs": [
    {
     "name": "stdout",
     "output_type": "stream",
     "text": [
      "OneTwoThreeFourFiveSixSevenEightNineTen\n",
      "OneTwoThre\n",
      "eFourFiveS\n",
      "ixSevenEig\n",
      "htNineTen\n"
     ]
    }
   ],
   "source": [
    "# 11721 열 개씩 끊어 출력하기\n",
    "\n",
    "user = input()\n",
    "\n",
    "for i in range(len(user)//10+1):\n",
    "    print(user[i*10:(i+1)*10])\n"
   ]
  },
  {
   "cell_type": "code",
   "execution_count": null,
   "id": "b0483177",
   "metadata": {},
   "outputs": [],
   "source": []
  }
 ],
 "metadata": {
  "kernelspec": {
   "display_name": "Python 3 (ipykernel)",
   "language": "python",
   "name": "python3"
  },
  "language_info": {
   "codemirror_mode": {
    "name": "ipython",
    "version": 3
   },
   "file_extension": ".py",
   "mimetype": "text/x-python",
   "name": "python",
   "nbconvert_exporter": "python",
   "pygments_lexer": "ipython3",
   "version": "3.8.9"
  }
 },
 "nbformat": 4,
 "nbformat_minor": 5
}
