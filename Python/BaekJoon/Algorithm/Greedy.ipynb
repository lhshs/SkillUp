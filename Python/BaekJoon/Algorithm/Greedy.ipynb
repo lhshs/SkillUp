{
 "cells": [
  {
   "cell_type": "code",
   "execution_count": 2,
   "id": "aaf67b67",
   "metadata": {
    "ExecuteTime": {
     "end_time": "2023-03-02T13:30:34.744944Z",
     "start_time": "2023-03-02T13:30:34.295207Z"
    }
   },
   "outputs": [
    {
     "name": "stdout",
     "output_type": "stream",
     "text": [
      "1\n",
      "15\n"
     ]
    }
   ],
   "source": [
    "# 5585 거스름돈\n",
    "\n",
    "n = 1000 - int(input())\n",
    "lst = [500, 100, 50, 10, 5, 1]\n",
    "cnt = 0\n",
    "\n",
    "for i in lst:\n",
    "    cnt += n // i\n",
    "    n %= i\n",
    "    \n",
    "print(cnt)"
   ]
  },
  {
   "cell_type": "code",
   "execution_count": null,
   "id": "3e555d5a",
   "metadata": {},
   "outputs": [],
   "source": []
  }
 ],
 "metadata": {
  "kernelspec": {
   "display_name": "Python 3 (ipykernel)",
   "language": "python",
   "name": "python3"
  },
  "language_info": {
   "codemirror_mode": {
    "name": "ipython",
    "version": 3
   },
   "file_extension": ".py",
   "mimetype": "text/x-python",
   "name": "python",
   "nbconvert_exporter": "python",
   "pygments_lexer": "ipython3",
   "version": "3.8.13"
  },
  "toc": {
   "base_numbering": 1,
   "nav_menu": {},
   "number_sections": false,
   "sideBar": true,
   "skip_h1_title": false,
   "title_cell": "Table of Contents",
   "title_sidebar": "Contents",
   "toc_cell": false,
   "toc_position": {},
   "toc_section_display": true,
   "toc_window_display": false
  }
 },
 "nbformat": 4,
 "nbformat_minor": 5
}
