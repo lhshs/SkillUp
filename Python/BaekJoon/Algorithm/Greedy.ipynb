{
 "cells": [
  {
   "cell_type": "code",
   "execution_count": 2,
   "id": "aaf67b67",
   "metadata": {
    "ExecuteTime": {
     "end_time": "2023-03-02T13:30:34.744944Z",
     "start_time": "2023-03-02T13:30:34.295207Z"
    }
   },
   "outputs": [
    {
     "name": "stdout",
     "output_type": "stream",
     "text": [
      "1\n",
      "15\n"
     ]
    }
   ],
   "source": [
    "# 5585 거스름돈\n",
    "\n",
    "n = 1000 - int(input())\n",
    "lst = [500, 100, 50, 10, 5, 1]\n",
    "cnt = 0\n",
    "\n",
    "for i in lst:\n",
    "    cnt += n // i\n",
    "    n %= i\n",
    "    \n",
    "print(cnt)"
   ]
  },
  {
   "cell_type": "code",
   "execution_count": 18,
   "id": "3e555d5a",
   "metadata": {
    "ExecuteTime": {
     "end_time": "2023-03-02T13:55:47.761867Z",
     "start_time": "2023-03-02T13:55:35.500094Z"
    }
   },
   "outputs": [
    {
     "name": "stdout",
     "output_type": "stream",
     "text": [
      "5 7 2\n",
      "3 4 3 4 3\n",
      "1\n",
      "2\n",
      "0\n",
      "1\n",
      "2\n",
      "0\n",
      "1\n",
      "28\n"
     ]
    }
   ],
   "source": [
    "# 이코다 p92 큰 수의 법칙\n",
    "\n",
    "n, m, k = map(int, input().split())   # 5, 8, 3\n",
    "lst = list(map(int, input().split()))  # 2 4 5 4 6\n",
    "lst.sort(reverse = True)\n",
    "\n",
    "a = lst[0]\n",
    "b = lst[1]\n",
    "total = 0\n",
    "cnt = 0\n",
    "\n",
    "for i in range(m):\n",
    "    cnt += 1\n",
    "    if cnt > k:\n",
    "        total += b\n",
    "        cnt = 0\n",
    "    else:\n",
    "        total += a\n",
    "    print(cnt)\n",
    "        \n",
    "print(total)\n",
    "    \n"
   ]
  },
  {
   "cell_type": "code",
   "execution_count": 4,
   "id": "bfe6d1bd",
   "metadata": {
    "ExecuteTime": {
     "end_time": "2023-03-04T10:42:22.866154Z",
     "start_time": "2023-03-04T10:42:11.985925Z"
    }
   },
   "outputs": [
    {
     "name": "stdout",
     "output_type": "stream",
     "text": [
      "3 3\n",
      "3 1 2\n",
      "4 1 4\n",
      "2 2 2\n",
      "2\n"
     ]
    }
   ],
   "source": [
    "# 이코다 p96 숫자 카드 게임\n",
    "\n",
    "n, m = map(int, input().split())\n",
    "result = 0\n",
    "\n",
    "for i in range(n):\n",
    "    data = list(map(int, input().split()))\n",
    "\n",
    "\n",
    "min_value = min(data)\n",
    "result = max(result, min_value)\n",
    "\n",
    "print(result)\n",
    "\n",
    "\n"
   ]
  },
  {
   "cell_type": "code",
   "execution_count": 4,
   "id": "28963155",
   "metadata": {
    "ExecuteTime": {
     "end_time": "2023-03-19T07:19:59.682932Z",
     "start_time": "2023-03-19T07:19:56.427648Z"
    }
   },
   "outputs": [
    {
     "name": "stdout",
     "output_type": "stream",
     "text": [
      "1430 4862\n",
      "6282 6292\n"
     ]
    }
   ],
   "source": [
    "# 2364 5와 6의 차이\n",
    "\n",
    "n, m = map(str, input().split())\n",
    "\n",
    "min1 = int(n.replace('6', '5'))\n",
    "min2 = int(m.replace('6', '5'))\n",
    "min_sum = min1 + min2\n",
    "\n",
    "max1 = int(n.replace('5', '6'))\n",
    "max2 = int(m.replace('5', '6'))\n",
    "max_sum = max1 + max2\n",
    "\n",
    "print(min_sum, max_sum)"
   ]
  },
  {
   "cell_type": "code",
   "execution_count": 21,
   "id": "38ba0495",
   "metadata": {
    "ExecuteTime": {
     "end_time": "2023-03-19T07:37:15.158394Z",
     "start_time": "2023-03-19T07:37:13.297282Z"
    }
   },
   "outputs": [
    {
     "name": "stdout",
     "output_type": "stream",
     "text": [
      "7\n",
      "0 1 2 0 1 2 0\n",
      "0\n",
      "1\n",
      "2\n",
      "0\n",
      "1\n",
      "2\n",
      "0\n"
     ]
    }
   ],
   "source": [
    "# 14720 우유 축제\n",
    "\n",
    "n = int(input())\n",
    "store = list(map(int, input().split()))\n",
    "cnt = 0\n",
    "# 0, 1, 2 순으로 다 뽑기\n",
    "\n",
    "for i in range(n):\n",
    "    if n[i]"
   ]
  },
  {
   "cell_type": "code",
   "execution_count": null,
   "id": "4a7aad2c",
   "metadata": {},
   "outputs": [],
   "source": []
  }
 ],
 "metadata": {
  "kernelspec": {
   "display_name": "Python 3 (ipykernel)",
   "language": "python",
   "name": "python3"
  },
  "language_info": {
   "codemirror_mode": {
    "name": "ipython",
    "version": 3
   },
   "file_extension": ".py",
   "mimetype": "text/x-python",
   "name": "python",
   "nbconvert_exporter": "python",
   "pygments_lexer": "ipython3",
   "version": "3.8.9"
  },
  "toc": {
   "base_numbering": 1,
   "nav_menu": {},
   "number_sections": false,
   "sideBar": true,
   "skip_h1_title": false,
   "title_cell": "Table of Contents",
   "title_sidebar": "Contents",
   "toc_cell": false,
   "toc_position": {},
   "toc_section_display": true,
   "toc_window_display": false
  }
 },
 "nbformat": 4,
 "nbformat_minor": 5
}
