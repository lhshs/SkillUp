{
 "cells": [
  {
   "cell_type": "code",
   "execution_count": 11,
   "id": "2876af58",
   "metadata": {
    "ExecuteTime": {
     "end_time": "2023-02-02T08:21:53.761732Z",
     "start_time": "2023-02-02T08:21:43.076709Z"
    }
   },
   "outputs": [
    {
     "name": "stdout",
     "output_type": "stream",
     "text": [
      "15\n",
      "1 2 3 4 4 1 2 5 1 2 5 4 6 5 4 3 2 4 5 6 7 4 3 2\n",
      "1\n",
      "3\n"
     ]
    }
   ],
   "source": [
    "# 1\n",
    "\n",
    "user = int(input())\n",
    "num_list = list(map(int, input().split()))\n",
    "num = int(input())\n",
    "\n",
    "print(num_list.count(num)) # list의 특정 element 개수를 세는 count 함수가 존재"
   ]
  },
  {
   "cell_type": "code",
   "execution_count": null,
   "id": "86e55bec",
   "metadata": {
    "ExecuteTime": {
     "start_time": "2023-02-02T08:46:57.590Z"
    }
   },
   "outputs": [
    {
     "name": "stdout",
     "output_type": "stream",
     "text": [
      "10 5\n"
     ]
    }
   ],
   "source": [
    "# 2\n",
    "# print() 내 method, end : string appended after the last value, default a newline.\n",
    "\n",
    "n, x = map(int, input().split())\n",
    "a = list(map(int, input().split()))\n",
    "\n",
    "for i in range(n):\n",
    "    if a[i] < x:\n",
    "        print(a[i], end = \"\")\n",
    "        "
   ]
  },
  {
   "cell_type": "code",
   "execution_count": 59,
   "id": "1af9a837",
   "metadata": {
    "ExecuteTime": {
     "end_time": "2023-02-02T08:44:34.588004Z",
     "start_time": "2023-02-02T08:44:34.584593Z"
    }
   },
   "outputs": [
    {
     "name": "stdout",
     "output_type": "stream",
     "text": [
      "Help on built-in function print in module builtins:\n",
      "\n",
      "print(...)\n",
      "    print(value, ..., sep=' ', end='\\n', file=sys.stdout, flush=False)\n",
      "    \n",
      "    Prints the values to a stream, or to sys.stdout by default.\n",
      "    Optional keyword arguments:\n",
      "    file:  a file-like object (stream); defaults to the current sys.stdout.\n",
      "    sep:   string inserted between values, default a space.\n",
      "    end:   string appended after the last value, default a newline.\n",
      "    flush: whether to forcibly flush the stream.\n",
      "\n"
     ]
    }
   ],
   "source": [
    "help(print)"
   ]
  },
  {
   "cell_type": "code",
   "execution_count": 44,
   "id": "51a6de0b",
   "metadata": {
    "ExecuteTime": {
     "end_time": "2023-02-02T08:33:07.431376Z",
     "start_time": "2023-02-02T08:33:02.207442Z"
    }
   },
   "outputs": [
    {
     "name": "stdout",
     "output_type": "stream",
     "text": [
      "5\n",
      "20 10 35 30 7\n",
      "7 35\n"
     ]
    }
   ],
   "source": [
    "# 3\n",
    "\n",
    "n = int(input())\n",
    "lst = list(map(int, input().split()))\n",
    "lst.sort()\n",
    "print(lst[0], lst[-1])\n",
    "\n",
    "# 다른 풀이\n",
    "# print(min(lst), max(lst))"
   ]
  },
  {
   "cell_type": "code",
   "execution_count": 45,
   "id": "61edb1e3",
   "metadata": {
    "ExecuteTime": {
     "end_time": "2023-02-02T08:35:33.385660Z",
     "start_time": "2023-02-02T08:35:33.381590Z"
    }
   },
   "outputs": [],
   "source": [
    "# 4\n",
    "\n"
   ]
  },
  {
   "cell_type": "code",
   "execution_count": 46,
   "id": "b50c3163",
   "metadata": {
    "ExecuteTime": {
     "end_time": "2023-02-02T08:35:38.799760Z",
     "start_time": "2023-02-02T08:35:38.797358Z"
    }
   },
   "outputs": [],
   "source": [
    "# 5\n",
    "\n"
   ]
  },
  {
   "cell_type": "code",
   "execution_count": null,
   "id": "4d283800",
   "metadata": {},
   "outputs": [],
   "source": [
    "# 6\n",
    "\n"
   ]
  },
  {
   "cell_type": "code",
   "execution_count": null,
   "id": "d6691b85",
   "metadata": {},
   "outputs": [],
   "source": [
    "# 7\n",
    "\n"
   ]
  },
  {
   "cell_type": "code",
   "execution_count": null,
   "id": "d9243fde",
   "metadata": {},
   "outputs": [],
   "source": [
    "# 8\n",
    "\n"
   ]
  },
  {
   "cell_type": "code",
   "execution_count": null,
   "id": "da923d1c",
   "metadata": {},
   "outputs": [],
   "source": [
    "# 9\n",
    "\n"
   ]
  }
 ],
 "metadata": {
  "kernelspec": {
   "display_name": "Python 3 (ipykernel)",
   "language": "python",
   "name": "python3"
  },
  "language_info": {
   "codemirror_mode": {
    "name": "ipython",
    "version": 3
   },
   "file_extension": ".py",
   "mimetype": "text/x-python",
   "name": "python",
   "nbconvert_exporter": "python",
   "pygments_lexer": "ipython3",
   "version": "3.8.13"
  },
  "toc": {
   "base_numbering": 1,
   "nav_menu": {},
   "number_sections": false,
   "sideBar": true,
   "skip_h1_title": false,
   "title_cell": "Table of Contents",
   "title_sidebar": "Contents",
   "toc_cell": false,
   "toc_position": {},
   "toc_section_display": true,
   "toc_window_display": false
  }
 },
 "nbformat": 4,
 "nbformat_minor": 5
}
