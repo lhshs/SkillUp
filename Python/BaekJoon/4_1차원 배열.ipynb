{
 "cells": [
  {
   "cell_type": "code",
   "execution_count": 11,
   "id": "2876af58",
   "metadata": {
    "ExecuteTime": {
     "end_time": "2023-02-02T08:21:53.761732Z",
     "start_time": "2023-02-02T08:21:43.076709Z"
    }
   },
   "outputs": [
    {
     "name": "stdout",
     "output_type": "stream",
     "text": [
      "15\n",
      "1 2 3 4 4 1 2 5 1 2 5 4 6 5 4 3 2 4 5 6 7 4 3 2\n",
      "1\n",
      "3\n"
     ]
    }
   ],
   "source": [
    "# 1\n",
    "\n",
    "user = int(input())\n",
    "num_list = list(map(int, input().split()))\n",
    "num = int(input())\n",
    "\n",
    "print(num_list.count(num)) # list의 특정 element 개수를 세는 count 함수가 존재"
   ]
  },
  {
   "cell_type": "code",
   "execution_count": null,
   "id": "86e55bec",
   "metadata": {
    "ExecuteTime": {
     "start_time": "2023-02-02T08:46:57.590Z"
    }
   },
   "outputs": [
    {
     "name": "stdout",
     "output_type": "stream",
     "text": [
      "10 5\n"
     ]
    }
   ],
   "source": [
    "# 2\n",
    "# print() 내 method, end : string appended after the last value, default a newline.\n",
    "\n",
    "n, x = map(int, input().split())\n",
    "a = list(map(int, input().split()))\n",
    "\n",
    "for i in range(n):\n",
    "    if a[i] < x:\n",
    "        print(a[i], end = \"\")\n",
    "        "
   ]
  },
  {
   "cell_type": "code",
   "execution_count": 59,
   "id": "1af9a837",
   "metadata": {
    "ExecuteTime": {
     "end_time": "2023-02-02T08:44:34.588004Z",
     "start_time": "2023-02-02T08:44:34.584593Z"
    }
   },
   "outputs": [
    {
     "name": "stdout",
     "output_type": "stream",
     "text": [
      "Help on built-in function print in module builtins:\n",
      "\n",
      "print(...)\n",
      "    print(value, ..., sep=' ', end='\\n', file=sys.stdout, flush=False)\n",
      "    \n",
      "    Prints the values to a stream, or to sys.stdout by default.\n",
      "    Optional keyword arguments:\n",
      "    file:  a file-like object (stream); defaults to the current sys.stdout.\n",
      "    sep:   string inserted between values, default a space.\n",
      "    end:   string appended after the last value, default a newline.\n",
      "    flush: whether to forcibly flush the stream.\n",
      "\n"
     ]
    }
   ],
   "source": [
    "help(print)"
   ]
  },
  {
   "cell_type": "code",
   "execution_count": 44,
   "id": "51a6de0b",
   "metadata": {
    "ExecuteTime": {
     "end_time": "2023-02-02T08:33:07.431376Z",
     "start_time": "2023-02-02T08:33:02.207442Z"
    }
   },
   "outputs": [
    {
     "name": "stdout",
     "output_type": "stream",
     "text": [
      "5\n",
      "20 10 35 30 7\n",
      "7 35\n"
     ]
    }
   ],
   "source": [
    "# 3\n",
    "\n",
    "n = int(input())\n",
    "lst = list(map(int, input().split()))\n",
    "lst.sort()\n",
    "print(lst[0], lst[-1])\n",
    "\n",
    "# 다른 풀이\n",
    "# print(min(lst), max(lst))"
   ]
  },
  {
   "cell_type": "code",
   "execution_count": 25,
   "id": "61edb1e3",
   "metadata": {
    "ExecuteTime": {
     "end_time": "2023-02-03T02:07:01.593314Z",
     "start_time": "2023-02-03T02:06:54.067279Z"
    }
   },
   "outputs": [
    {
     "name": "stdout",
     "output_type": "stream",
     "text": [
      "3\n",
      "54\n",
      "65\n",
      "75\n",
      "43\n",
      "65\n",
      "4\n",
      "754\n",
      "75\n",
      "754\n",
      "7\n"
     ]
    }
   ],
   "source": [
    "# 4\n",
    "a = []\n",
    "\n",
    "for i in range(9):\n",
    "    i = int(input())\n",
    "    a.append(i)\n",
    "    \n",
    "print(max(a))\n",
    "print(int(a.index(max(a))) + 1)\n",
    "    "
   ]
  },
  {
   "cell_type": "code",
   "execution_count": null,
   "id": "58681118",
   "metadata": {
    "ExecuteTime": {
     "end_time": "2023-02-03T02:28:16.623450Z",
     "start_time": "2023-02-03T02:28:13.832279Z"
    }
   },
   "outputs": [],
   "source": [
    "# 5\n",
    "a = []\n",
    "b = []\n",
    "\n",
    "for i in range(1, 31):\n",
    "    a.append(i)\n",
    "\n",
    "for j in range(1, 29):\n",
    "    b.append(int(input()))\n",
    "    lst = [_ for _ in a if _ not in b] # 리스트 두개 비교해서 없는 것 추출\n",
    "    \n",
    "print(min(lst))\n",
    "print(max(lst))"
   ]
  },
  {
   "cell_type": "code",
   "execution_count": 33,
   "id": "25394eda",
   "metadata": {
    "ExecuteTime": {
     "end_time": "2023-02-03T02:28:16.623450Z",
     "start_time": "2023-02-03T02:28:13.832279Z"
    }
   },
   "outputs": [
    {
     "name": "stdout",
     "output_type": "stream",
     "text": [
      "1\n",
      "2\n",
      "3\n",
      "[1, 2, 3, 4, 5, 6] [1, 2, 3]\n",
      "[4, 5, 6]\n"
     ]
    }
   ],
   "source": [
    "## 5 set 사용 풀이  // list 를 입력받은 후 remove method를 사용해서 푸는 방법도 있음\n",
    "\n",
    "a = set()\n",
    "b = set()\n",
    "\n",
    "for i in range(1, 31):\n",
    "    a.add(i)\n",
    "\n",
    "for j in range(1, 29):\n",
    "    b.add(int(input()))\n",
    "    lst = a - b\n",
    "    \n",
    "print(min(lst))\n",
    "print(max(lst))"
   ]
  },
  {
   "cell_type": "code",
   "execution_count": null,
   "id": "8be333a8",
   "metadata": {
    "ExecuteTime": {
     "end_time": "2023-02-03T02:47:10.854018Z",
     "start_time": "2023-02-03T02:47:02.246582Z"
    }
   },
   "outputs": [],
   "source": [
    "# 6\n",
    "\n",
    "num = []\n",
    "out = set()\n",
    "\n",
    "for i in range(10):\n",
    "    num.append(int(input()))\n",
    "    \n",
    "for j in num:\n",
    "    out.add(j % 42)\n",
    "print(len(out))\n"
   ]
  },
  {
   "cell_type": "code",
   "execution_count": 47,
   "id": "0f144b26",
   "metadata": {
    "ExecuteTime": {
     "end_time": "2023-02-03T02:47:10.854018Z",
     "start_time": "2023-02-03T02:47:02.246582Z"
    }
   },
   "outputs": [
    {
     "name": "stdout",
     "output_type": "stream",
     "text": [
      "7\n",
      "14\n",
      "27\n",
      "38\n",
      "3\n"
     ]
    }
   ],
   "source": [
    "## 6 좀 더 간략하게 코드 정리\n",
    "\n",
    "lst = []\n",
    "\n",
    "for i in range(10):\n",
    "    a = int(input())\n",
    "    lst.append(a % 42)\n",
    "out = set(lst)\n",
    "print(len(out))"
   ]
  },
  {
   "cell_type": "code",
   "execution_count": 61,
   "id": "1e35bdcf",
   "metadata": {
    "ExecuteTime": {
     "end_time": "2023-02-03T03:05:30.718759Z",
     "start_time": "2023-02-03T03:05:26.253525Z"
    }
   },
   "outputs": [
    {
     "name": "stdout",
     "output_type": "stream",
     "text": [
      "4\n",
      "1 100 100 100\n",
      "[1.0, 100.0, 100.0, 100.0]\n",
      "75.25\n"
     ]
    }
   ],
   "source": [
    "# 7\n",
    "\n",
    "n = int(input())\n",
    "score = list(map(int, input().split()))\n",
    "m = max(score)\n",
    "\n",
    "for i in range(n):\n",
    "    score[i] = score[i] / m * 100\n",
    "        \n",
    "print(sum(score) / len(score))\n",
    "        "
   ]
  },
  {
   "cell_type": "code",
   "execution_count": 54,
   "id": "581ece38",
   "metadata": {
    "ExecuteTime": {
     "end_time": "2023-02-03T02:59:44.573796Z",
     "start_time": "2023-02-03T02:59:44.568823Z"
    },
    "scrolled": true
   },
   "outputs": [
    {
     "data": {
      "text/plain": [
       "2.0"
      ]
     },
     "execution_count": 54,
     "metadata": {},
     "output_type": "execute_result"
    }
   ],
   "source": [
    "llll = [1,2,3]\n",
    "sum(llll) / len(llll)"
   ]
  },
  {
   "cell_type": "code",
   "execution_count": 74,
   "id": "d9243fde",
   "metadata": {
    "ExecuteTime": {
     "end_time": "2023-02-04T09:58:43.320111Z",
     "start_time": "2023-02-04T09:58:42.118566Z"
    }
   },
   "outputs": [
    {
     "name": "stdout",
     "output_type": "stream",
     "text": [
      "1\n",
      "OOXXOXXOOO\n",
      "O\n",
      "O\n",
      "X\n",
      "X\n",
      "O\n",
      "X\n",
      "X\n",
      "O\n",
      "O\n",
      "O\n",
      "10\n"
     ]
    }
   ],
   "source": [
    "# 8\n",
    "\n",
    "case = int(input())\n",
    "\n",
    "for i in range(case):\n",
    "    lst = list(input())\n",
    "    score = 0\n",
    "    total = 0\n",
    "    for j in lst:\n",
    "        if j == \"O\":\n",
    "            score += 1\n",
    "        else :\n",
    "            score = 0\n",
    "        total += score\n",
    "    print(total)\n",
    "\n",
    "        "
   ]
  },
  {
   "cell_type": "code",
   "execution_count": null,
   "id": "cc09d78f",
   "metadata": {
    "ExecuteTime": {
     "end_time": "2023-02-04T09:19:41.646642Z",
     "start_time": "2023-02-04T09:19:39.905044Z"
    }
   },
   "outputs": [],
   "source": [
    "# 9\n",
    "\n",
    "case = int(input())\n",
    "\n",
    "for i in range(case):\n",
    "    score = list(map(int, input().split()))\n",
    "    cnt = 0\n",
    "    for j in range(score[0]):\n",
    "        avg = sum(score[1:]) / len(score[1:]) # 평균\n",
    "        if score[j+1] > avg:\n",
    "            cnt += 1\n",
    "            ratio = cnt / len(score[1:]) * 100\n",
    "    print(f'{ratio :.3f}%')\n",
    "    "
   ]
  }
 ],
 "metadata": {
  "kernelspec": {
   "display_name": "Python 3 (ipykernel)",
   "language": "python",
   "name": "python3"
  },
  "language_info": {
   "codemirror_mode": {
    "name": "ipython",
    "version": 3
   },
   "file_extension": ".py",
   "mimetype": "text/x-python",
   "name": "python",
   "nbconvert_exporter": "python",
   "pygments_lexer": "ipython3",
   "version": "3.8.13"
  },
  "toc": {
   "base_numbering": 1,
   "nav_menu": {},
   "number_sections": false,
   "sideBar": true,
   "skip_h1_title": false,
   "title_cell": "Table of Contents",
   "title_sidebar": "Contents",
   "toc_cell": false,
   "toc_position": {},
   "toc_section_display": true,
   "toc_window_display": false
  }
 },
 "nbformat": 4,
 "nbformat_minor": 5
}
