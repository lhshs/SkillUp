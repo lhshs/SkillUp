{
 "cells": [
  {
   "cell_type": "code",
   "execution_count": null,
   "id": "fbd983ed",
   "metadata": {
    "ExecuteTime": {
     "end_time": "2023-02-09T05:50:14.547217Z",
     "start_time": "2023-02-09T05:50:13.840159Z"
    }
   },
   "outputs": [],
   "source": [
    "# 1 11654 ASCII\n",
    "\n",
    "user = ord(input())\n",
    "print(user)"
   ]
  },
  {
   "cell_type": "code",
   "execution_count": null,
   "id": "4aae2364",
   "metadata": {
    "ExecuteTime": {
     "end_time": "2023-02-08T07:46:01.770101Z",
     "start_time": "2023-02-08T07:45:55.899647Z"
    }
   },
   "outputs": [],
   "source": [
    "# 2 11720\n",
    "\n",
    "n = int(input())\n",
    "m = sum(map(int, str(input())))\n",
    "print(m)\n"
   ]
  },
  {
   "cell_type": "code",
   "execution_count": null,
   "id": "654d8cc2",
   "metadata": {
    "ExecuteTime": {
     "end_time": "2023-02-08T07:50:27.924664Z",
     "start_time": "2023-02-08T07:50:26.710033Z"
    }
   },
   "outputs": [],
   "source": [
    "# 2 n과 m을 다 활용한 풀이\n",
    "\n",
    "n = input()\n",
    "m = input()\n",
    "total = 0\n",
    "\n",
    "for i in range(int(n)): # input은 기본적으로 str로 받기 때문에, int로 변환\n",
    "    total += int(m[i]) # 0 ~ n-1 까지 더하기\n",
    "print(total)"
   ]
  },
  {
   "cell_type": "code",
   "execution_count": null,
   "id": "a4726361",
   "metadata": {
    "ExecuteTime": {
     "end_time": "2023-02-08T08:14:08.630717Z",
     "start_time": "2023-02-08T08:14:06.755138Z"
    }
   },
   "outputs": [],
   "source": [
    "# 3\n",
    "\n",
    "word = input()\n",
    "alphabet = ['a','b','c','d','e',\n",
    "            'f','g','h','i','j',\n",
    "            'k','l','m','n','o',\n",
    "            'p','q','r','s','t',\n",
    "            'u','v','w','x','y','z']\n",
    "# alphabet = 'abcdefghijklmnopqrstuvwxyz'\n",
    "\n",
    "for i in alphabet:\n",
    "    if i in word:\n",
    "        print(word.index(i), end = ' ')\n",
    "    else:\n",
    "        print(-1, end = ' ')\n",
    "\n"
   ]
  },
  {
   "cell_type": "code",
   "execution_count": null,
   "id": "809be59d",
   "metadata": {
    "ExecuteTime": {
     "end_time": "2023-02-08T08:39:17.675295Z",
     "start_time": "2023-02-08T08:39:11.914316Z"
    }
   },
   "outputs": [],
   "source": [
    "# 4 2675\n",
    "\n",
    "t = int(input())\n",
    "\n",
    "for i in range(t):\n",
    "    r, s = input().split()\n",
    "    for j in s:\n",
    "        print(int(r) * j, end = '')\n",
    "    print()\n"
   ]
  },
  {
   "cell_type": "code",
   "execution_count": null,
   "id": "dce7bb54",
   "metadata": {
    "ExecuteTime": {
     "end_time": "2023-02-09T05:35:11.320378Z",
     "start_time": "2023-02-09T05:35:11.315917Z"
    }
   },
   "outputs": [],
   "source": [
    "ll = ['a','a',3]\n",
    "ll.count('a')"
   ]
  },
  {
   "cell_type": "code",
   "execution_count": null,
   "id": "58622cbc",
   "metadata": {
    "ExecuteTime": {
     "end_time": "2023-02-09T06:20:02.191694Z",
     "start_time": "2023-02-09T06:20:02.177691Z"
    }
   },
   "outputs": [],
   "source": [
    "\n",
    "help(set)"
   ]
  },
  {
   "cell_type": "code",
   "execution_count": 23,
   "id": "5d78a864",
   "metadata": {
    "ExecuteTime": {
     "end_time": "2023-02-09T06:31:47.476418Z",
     "start_time": "2023-02-09T06:31:46.642729Z"
    }
   },
   "outputs": [
    {
     "name": "stdout",
     "output_type": "stream",
     "text": [
      "zZa\n",
      "Z\n"
     ]
    }
   ],
   "source": [
    "# 5 1157\n",
    "\n",
    "word = input().upper() # Mississipi 입력 + 대문자 전환\n",
    "word_set = set(word) # P, M, I, S\n",
    "cnt_lst = []\n",
    "\n",
    "for i in word_set:\n",
    "    cnt = word.count(i)\n",
    "    cnt_lst.append(cnt)  # [1,1,4,4]\n",
    "        \n",
    "if cnt_lst.count(max(cnt_lst)) >= 2: \n",
    "    print('?')\n",
    "else:\n",
    "    print(list(word_set)[cnt_lst.index(max(cnt_lst))]) # max의 값의 index 값 -> word_set에서 알파벳 찾기\n",
    "\n"
   ]
  },
  {
   "cell_type": "code",
   "execution_count": 77,
   "id": "a08b29ff",
   "metadata": {
    "ExecuteTime": {
     "end_time": "2023-02-11T08:07:50.809103Z",
     "start_time": "2023-02-11T08:07:50.225916Z"
    }
   },
   "outputs": [
    {
     "name": "stdout",
     "output_type": "stream",
     "text": [
      "The Curious Case of Benjamin Button\n",
      "6\n"
     ]
    }
   ],
   "source": [
    "# 6 1152\n",
    "\n",
    "user = input().split()\n",
    "print(len(user))"
   ]
  },
  {
   "cell_type": "code",
   "execution_count": 79,
   "id": "649135bf",
   "metadata": {
    "ExecuteTime": {
     "end_time": "2023-02-11T08:12:25.200889Z",
     "start_time": "2023-02-11T08:12:24.592433Z"
    }
   },
   "outputs": [
    {
     "name": "stdout",
     "output_type": "stream",
     "text": [
      "734 893\n",
      "437\n"
     ]
    }
   ],
   "source": [
    "# 7 2908\n",
    "\n",
    "a, b = input().split()\n",
    "a = int(a[2] + a[1] + a[0]) # a[::-1] 문자 역순 출력\n",
    "b = int(b[2] + b[1] + b[0]) # b[::-1]\n",
    "\n",
    "if a > b:\n",
    "    print(a)\n",
    "else:\n",
    "    print(b)\n"
   ]
  },
  {
   "cell_type": "code",
   "execution_count": 158,
   "id": "bfb8505e",
   "metadata": {
    "ExecuteTime": {
     "end_time": "2023-02-11T09:05:36.001470Z",
     "start_time": "2023-02-11T09:05:32.952858Z"
    }
   },
   "outputs": [
    {
     "name": "stdout",
     "output_type": "stream",
     "text": [
      "UNUCIC\n",
      "36\n"
     ]
    }
   ],
   "source": [
    "# 8 5622\n",
    "\n",
    "memory = input()\n",
    "dial = ['ABC', 'DEF', 'GHI', 'JKL', 'MNO', 'PQRS', 'TUV', 'WXYZ']\n",
    "total = 0\n",
    "\n",
    "for i in memory: # 글자 탐색 # W, A\n",
    "    for j in range(len(dial)): # dial 탐색\n",
    "        if i in dial[j]:  # 탐색하던 글자가 list 안의 string에 있다면  // list로 받아버리면 방법도 있음\n",
    "            total += (j + 3)\n",
    "print(total)\n"
   ]
  },
  {
   "cell_type": "code",
   "execution_count": 148,
   "id": "565d28ea",
   "metadata": {
    "ExecuteTime": {
     "end_time": "2023-02-11T09:02:56.075853Z",
     "start_time": "2023-02-11T09:02:56.071449Z"
    }
   },
   "outputs": [
    {
     "data": {
      "text/plain": [
       "5"
      ]
     },
     "execution_count": 148,
     "metadata": {},
     "output_type": "execute_result"
    }
   ],
   "source": [
    "lll = [1,4,5]\n",
    "lll[2]"
   ]
  },
  {
   "cell_type": "code",
   "execution_count": 140,
   "id": "2ecc7281",
   "metadata": {
    "ExecuteTime": {
     "end_time": "2023-02-11T08:53:58.349056Z",
     "start_time": "2023-02-11T08:53:58.344616Z"
    }
   },
   "outputs": [
    {
     "name": "stdout",
     "output_type": "stream",
     "text": [
      "oo\n"
     ]
    }
   ],
   "source": [
    "ll = ['aa', 'bb']\n",
    "ss = 'abbaa'\n",
    "if 'a' in ll[0]:\n",
    "    print('oo')\n",
    "else:\n",
    "    print('xx')\n",
    "# print(str(ll))"
   ]
  },
  {
   "cell_type": "code",
   "execution_count": 114,
   "id": "8390115c",
   "metadata": {
    "ExecuteTime": {
     "end_time": "2023-02-11T08:35:29.294154Z",
     "start_time": "2023-02-11T08:35:29.205959Z"
    }
   },
   "outputs": [
    {
     "ename": "TypeError",
     "evalue": "'dict' object is not callable",
     "output_type": "error",
     "traceback": [
      "\u001b[0;31m---------------------------------------------------------------------------\u001b[0m",
      "\u001b[0;31mTypeError\u001b[0m                                 Traceback (most recent call last)",
      "Input \u001b[0;32mIn [114]\u001b[0m, in \u001b[0;36m<cell line: 3>\u001b[0;34m()\u001b[0m\n\u001b[1;32m      1\u001b[0m vv \u001b[38;5;241m=\u001b[39m {\u001b[38;5;241m1\u001b[39m:\u001b[38;5;124m'\u001b[39m\u001b[38;5;124mddd\u001b[39m\u001b[38;5;124m'\u001b[39m, \u001b[38;5;241m2\u001b[39m:\u001b[38;5;124m'\u001b[39m\u001b[38;5;124mccc\u001b[39m\u001b[38;5;124m'\u001b[39m}\n\u001b[1;32m      2\u001b[0m \u001b[38;5;66;03m# 'ddd' in str(vv.values())\u001b[39;00m\n\u001b[0;32m----> 3\u001b[0m \u001b[43mvv\u001b[49m\u001b[43m(\u001b[49m\u001b[38;5;124;43m'\u001b[39;49m\u001b[38;5;124;43mddd\u001b[39;49m\u001b[38;5;124;43m'\u001b[39;49m\u001b[43m)\u001b[49m\n",
      "\u001b[0;31mTypeError\u001b[0m: 'dict' object is not callable"
     ]
    }
   ],
   "source": [
    "vv = {1:'ddd', 2:'ccc'}\n",
    "# 'ddd' in str(vv.values())\n",
    "vv('ddd')"
   ]
  },
  {
   "cell_type": "code",
   "execution_count": 88,
   "id": "dcb097cf",
   "metadata": {
    "ExecuteTime": {
     "end_time": "2023-02-11T08:25:04.278295Z",
     "start_time": "2023-02-11T08:25:04.265370Z"
    }
   },
   "outputs": [
    {
     "name": "stdout",
     "output_type": "stream",
     "text": [
      "Help on class dict in module builtins:\n",
      "\n",
      "class dict(object)\n",
      " |  dict() -> new empty dictionary\n",
      " |  dict(mapping) -> new dictionary initialized from a mapping object's\n",
      " |      (key, value) pairs\n",
      " |  dict(iterable) -> new dictionary initialized as if via:\n",
      " |      d = {}\n",
      " |      for k, v in iterable:\n",
      " |          d[k] = v\n",
      " |  dict(**kwargs) -> new dictionary initialized with the name=value pairs\n",
      " |      in the keyword argument list.  For example:  dict(one=1, two=2)\n",
      " |  \n",
      " |  Built-in subclasses:\n",
      " |      StgDict\n",
      " |  \n",
      " |  Methods defined here:\n",
      " |  \n",
      " |  __contains__(self, key, /)\n",
      " |      True if the dictionary has the specified key, else False.\n",
      " |  \n",
      " |  __delitem__(self, key, /)\n",
      " |      Delete self[key].\n",
      " |  \n",
      " |  __eq__(self, value, /)\n",
      " |      Return self==value.\n",
      " |  \n",
      " |  __ge__(self, value, /)\n",
      " |      Return self>=value.\n",
      " |  \n",
      " |  __getattribute__(self, name, /)\n",
      " |      Return getattr(self, name).\n",
      " |  \n",
      " |  __getitem__(...)\n",
      " |      x.__getitem__(y) <==> x[y]\n",
      " |  \n",
      " |  __gt__(self, value, /)\n",
      " |      Return self>value.\n",
      " |  \n",
      " |  __init__(self, /, *args, **kwargs)\n",
      " |      Initialize self.  See help(type(self)) for accurate signature.\n",
      " |  \n",
      " |  __iter__(self, /)\n",
      " |      Implement iter(self).\n",
      " |  \n",
      " |  __le__(self, value, /)\n",
      " |      Return self<=value.\n",
      " |  \n",
      " |  __len__(self, /)\n",
      " |      Return len(self).\n",
      " |  \n",
      " |  __lt__(self, value, /)\n",
      " |      Return self<value.\n",
      " |  \n",
      " |  __ne__(self, value, /)\n",
      " |      Return self!=value.\n",
      " |  \n",
      " |  __repr__(self, /)\n",
      " |      Return repr(self).\n",
      " |  \n",
      " |  __reversed__(self, /)\n",
      " |      Return a reverse iterator over the dict keys.\n",
      " |  \n",
      " |  __setitem__(self, key, value, /)\n",
      " |      Set self[key] to value.\n",
      " |  \n",
      " |  __sizeof__(...)\n",
      " |      D.__sizeof__() -> size of D in memory, in bytes\n",
      " |  \n",
      " |  clear(...)\n",
      " |      D.clear() -> None.  Remove all items from D.\n",
      " |  \n",
      " |  copy(...)\n",
      " |      D.copy() -> a shallow copy of D\n",
      " |  \n",
      " |  get(self, key, default=None, /)\n",
      " |      Return the value for key if key is in the dictionary, else default.\n",
      " |  \n",
      " |  items(...)\n",
      " |      D.items() -> a set-like object providing a view on D's items\n",
      " |  \n",
      " |  keys(...)\n",
      " |      D.keys() -> a set-like object providing a view on D's keys\n",
      " |  \n",
      " |  pop(...)\n",
      " |      D.pop(k[,d]) -> v, remove specified key and return the corresponding value.\n",
      " |      If key is not found, d is returned if given, otherwise KeyError is raised\n",
      " |  \n",
      " |  popitem(self, /)\n",
      " |      Remove and return a (key, value) pair as a 2-tuple.\n",
      " |      \n",
      " |      Pairs are returned in LIFO (last-in, first-out) order.\n",
      " |      Raises KeyError if the dict is empty.\n",
      " |  \n",
      " |  setdefault(self, key, default=None, /)\n",
      " |      Insert key with a value of default if key is not in the dictionary.\n",
      " |      \n",
      " |      Return the value for key if key is in the dictionary, else default.\n",
      " |  \n",
      " |  update(...)\n",
      " |      D.update([E, ]**F) -> None.  Update D from dict/iterable E and F.\n",
      " |      If E is present and has a .keys() method, then does:  for k in E: D[k] = E[k]\n",
      " |      If E is present and lacks a .keys() method, then does:  for k, v in E: D[k] = v\n",
      " |      In either case, this is followed by: for k in F:  D[k] = F[k]\n",
      " |  \n",
      " |  values(...)\n",
      " |      D.values() -> an object providing a view on D's values\n",
      " |  \n",
      " |  ----------------------------------------------------------------------\n",
      " |  Class methods defined here:\n",
      " |  \n",
      " |  fromkeys(iterable, value=None, /) from builtins.type\n",
      " |      Create a new dictionary with keys from iterable and values set to value.\n",
      " |  \n",
      " |  ----------------------------------------------------------------------\n",
      " |  Static methods defined here:\n",
      " |  \n",
      " |  __new__(*args, **kwargs) from builtins.type\n",
      " |      Create and return a new object.  See help(type) for accurate signature.\n",
      " |  \n",
      " |  ----------------------------------------------------------------------\n",
      " |  Data and other attributes defined here:\n",
      " |  \n",
      " |  __hash__ = None\n",
      "\n"
     ]
    }
   ],
   "source": [
    "help(dict)"
   ]
  },
  {
   "cell_type": "code",
   "execution_count": null,
   "id": "0854fd57",
   "metadata": {},
   "outputs": [],
   "source": []
  }
 ],
 "metadata": {
  "kernelspec": {
   "display_name": "Python 3 (ipykernel)",
   "language": "python",
   "name": "python3"
  },
  "language_info": {
   "codemirror_mode": {
    "name": "ipython",
    "version": 3
   },
   "file_extension": ".py",
   "mimetype": "text/x-python",
   "name": "python",
   "nbconvert_exporter": "python",
   "pygments_lexer": "ipython3",
   "version": "3.8.13"
  },
  "toc": {
   "base_numbering": 1,
   "nav_menu": {},
   "number_sections": false,
   "sideBar": true,
   "skip_h1_title": false,
   "title_cell": "Table of Contents",
   "title_sidebar": "Contents",
   "toc_cell": false,
   "toc_position": {},
   "toc_section_display": true,
   "toc_window_display": false
  }
 },
 "nbformat": 4,
 "nbformat_minor": 5
}
