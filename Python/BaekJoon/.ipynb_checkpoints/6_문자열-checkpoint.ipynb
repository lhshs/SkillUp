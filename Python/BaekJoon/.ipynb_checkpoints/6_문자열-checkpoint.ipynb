{
 "cells": [
  {
   "cell_type": "code",
   "execution_count": 2,
   "id": "fbd983ed",
   "metadata": {
    "ExecuteTime": {
     "end_time": "2023-02-08T07:42:30.248979Z",
     "start_time": "2023-02-08T07:42:29.327257Z"
    }
   },
   "outputs": [
    {
     "name": "stdout",
     "output_type": "stream",
     "text": [
      "a\n",
      "97\n"
     ]
    }
   ],
   "source": [
    "# 1 11654 ASCII\n",
    "\n",
    "user = ord(input())\n",
    "print(user)"
   ]
  },
  {
   "cell_type": "code",
   "execution_count": 7,
   "id": "4aae2364",
   "metadata": {
    "ExecuteTime": {
     "end_time": "2023-02-08T07:46:01.770101Z",
     "start_time": "2023-02-08T07:45:55.899647Z"
    }
   },
   "outputs": [
    {
     "name": "stdout",
     "output_type": "stream",
     "text": [
      "25\n",
      "7000000000000000000000000\n",
      "7\n"
     ]
    }
   ],
   "source": [
    "# 2 11720\n",
    "\n",
    "n = int(input())\n",
    "m = sum(map(int, str(input())))\n",
    "print(m)\n"
   ]
  },
  {
   "cell_type": "code",
   "execution_count": 11,
   "id": "654d8cc2",
   "metadata": {
    "ExecuteTime": {
     "end_time": "2023-02-08T07:50:27.924664Z",
     "start_time": "2023-02-08T07:50:26.710033Z"
    }
   },
   "outputs": [
    {
     "name": "stdout",
     "output_type": "stream",
     "text": [
      "11\n",
      "10987654321\n",
      "46\n"
     ]
    }
   ],
   "source": [
    "# 2 n과 m을 다 활용한 풀이\n",
    "\n",
    "n = input()\n",
    "m = input()\n",
    "total = 0\n",
    "\n",
    "for i in range(int(n)): # input은 기본적으로 str로 받기 때문에, int로 변환\n",
    "    total += int(m[i]) # 0 ~ n-1 까지 더하기\n",
    "print(total)"
   ]
  },
  {
   "cell_type": "code",
   "execution_count": 40,
   "id": "a4726361",
   "metadata": {
    "ExecuteTime": {
     "end_time": "2023-02-08T08:14:08.630717Z",
     "start_time": "2023-02-08T08:14:06.755138Z"
    }
   },
   "outputs": [
    {
     "name": "stdout",
     "output_type": "stream",
     "text": [
      "baekjoon\n",
      "1 0 -1 -1 2 -1 -1 -1 -1 4 3 -1 -1 7 5 -1 -1 -1 -1 -1 -1 -1 -1 -1 -1 -1 "
     ]
    }
   ],
   "source": [
    "# 3\n",
    "\n",
    "word = input()\n",
    "alphabet = ['a','b','c','d','e',\n",
    "            'f','g','h','i','j',\n",
    "            'k','l','m','n','o',\n",
    "            'p','q','r','s','t',\n",
    "            'u','v','w','x','y','z']\n",
    "# alphabet = 'abcdefghijklmnopqrstuvwxyz'\n",
    "\n",
    "for i in alphabet:\n",
    "    if i in word:\n",
    "        print(word.index(i), end = ' ')\n",
    "    else:\n",
    "        print(-1, end = ' ')\n",
    "\n"
   ]
  },
  {
   "cell_type": "code",
   "execution_count": 55,
   "id": "809be59d",
   "metadata": {
    "ExecuteTime": {
     "end_time": "2023-02-08T08:39:17.675295Z",
     "start_time": "2023-02-08T08:39:11.914316Z"
    }
   },
   "outputs": [
    {
     "name": "stdout",
     "output_type": "stream",
     "text": [
      "2\n",
      "3 abc\n",
      "aaabbbccc\n",
      "5 abvbbb\n",
      "aaaaabbbbbvvvvvbbbbbbbbbbbbbbb\n"
     ]
    }
   ],
   "source": [
    "# 4 2675\n",
    "\n",
    "t = int(input())\n",
    "\n",
    "for i in range(t):\n",
    "    r, s = input().split()\n",
    "    for j in s:\n",
    "        print(int(r) * j, end = '')\n",
    "    print()\n"
   ]
  },
  {
   "cell_type": "code",
   "execution_count": null,
   "id": "07dec6d1",
   "metadata": {},
   "outputs": [],
   "source": []
  },
  {
   "cell_type": "code",
   "execution_count": null,
   "id": "5d78a864",
   "metadata": {},
   "outputs": [],
   "source": [
    "# 5\n",
    "\n"
   ]
  },
  {
   "cell_type": "code",
   "execution_count": null,
   "id": "a4bde9ad",
   "metadata": {},
   "outputs": [],
   "source": [
    "# 6\n",
    "\n"
   ]
  }
 ],
 "metadata": {
  "kernelspec": {
   "display_name": "Python 3 (ipykernel)",
   "language": "python",
   "name": "python3"
  },
  "language_info": {
   "codemirror_mode": {
    "name": "ipython",
    "version": 3
   },
   "file_extension": ".py",
   "mimetype": "text/x-python",
   "name": "python",
   "nbconvert_exporter": "python",
   "pygments_lexer": "ipython3",
   "version": "3.8.13"
  },
  "toc": {
   "base_numbering": 1,
   "nav_menu": {},
   "number_sections": false,
   "sideBar": true,
   "skip_h1_title": false,
   "title_cell": "Table of Contents",
   "title_sidebar": "Contents",
   "toc_cell": false,
   "toc_position": {},
   "toc_section_display": true,
   "toc_window_display": false
  }
 },
 "nbformat": 4,
 "nbformat_minor": 5
}
