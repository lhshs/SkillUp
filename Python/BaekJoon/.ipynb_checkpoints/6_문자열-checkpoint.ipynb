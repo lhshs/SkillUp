{
 "cells": [
  {
   "cell_type": "code",
   "execution_count": null,
   "id": "fbd983ed",
   "metadata": {
    "ExecuteTime": {
     "end_time": "2023-02-09T05:50:14.547217Z",
     "start_time": "2023-02-09T05:50:13.840159Z"
    }
   },
   "outputs": [],
   "source": [
    "# 1 11654 ASCII\n",
    "\n",
    "user = ord(input())\n",
    "print(user)"
   ]
  },
  {
   "cell_type": "code",
   "execution_count": null,
   "id": "4aae2364",
   "metadata": {
    "ExecuteTime": {
     "end_time": "2023-02-08T07:46:01.770101Z",
     "start_time": "2023-02-08T07:45:55.899647Z"
    }
   },
   "outputs": [],
   "source": [
    "# 2 11720\n",
    "\n",
    "n = int(input())\n",
    "m = sum(map(int, str(input())))\n",
    "print(m)\n"
   ]
  },
  {
   "cell_type": "code",
   "execution_count": null,
   "id": "654d8cc2",
   "metadata": {
    "ExecuteTime": {
     "end_time": "2023-02-08T07:50:27.924664Z",
     "start_time": "2023-02-08T07:50:26.710033Z"
    }
   },
   "outputs": [],
   "source": [
    "# 2 n과 m을 다 활용한 풀이\n",
    "\n",
    "n = input()\n",
    "m = input()\n",
    "total = 0\n",
    "\n",
    "for i in range(int(n)): # input은 기본적으로 str로 받기 때문에, int로 변환\n",
    "    total += int(m[i]) # 0 ~ n-1 까지 더하기\n",
    "print(total)"
   ]
  },
  {
   "cell_type": "code",
   "execution_count": null,
   "id": "a4726361",
   "metadata": {
    "ExecuteTime": {
     "end_time": "2023-02-08T08:14:08.630717Z",
     "start_time": "2023-02-08T08:14:06.755138Z"
    }
   },
   "outputs": [],
   "source": [
    "# 3\n",
    "\n",
    "word = input()\n",
    "alphabet = ['a','b','c','d','e',\n",
    "            'f','g','h','i','j',\n",
    "            'k','l','m','n','o',\n",
    "            'p','q','r','s','t',\n",
    "            'u','v','w','x','y','z']\n",
    "# alphabet = 'abcdefghijklmnopqrstuvwxyz'\n",
    "\n",
    "for i in alphabet:\n",
    "    if i in word:\n",
    "        print(word.index(i), end = ' ')\n",
    "    else:\n",
    "        print(-1, end = ' ')\n",
    "\n"
   ]
  },
  {
   "cell_type": "code",
   "execution_count": null,
   "id": "809be59d",
   "metadata": {
    "ExecuteTime": {
     "end_time": "2023-02-08T08:39:17.675295Z",
     "start_time": "2023-02-08T08:39:11.914316Z"
    }
   },
   "outputs": [],
   "source": [
    "# 4 2675\n",
    "\n",
    "t = int(input())\n",
    "\n",
    "for i in range(t):\n",
    "    r, s = input().split()\n",
    "    for j in s:\n",
    "        print(int(r) * j, end = '')\n",
    "    print()\n"
   ]
  },
  {
   "cell_type": "code",
   "execution_count": null,
   "id": "dce7bb54",
   "metadata": {
    "ExecuteTime": {
     "end_time": "2023-02-09T05:35:11.320378Z",
     "start_time": "2023-02-09T05:35:11.315917Z"
    }
   },
   "outputs": [],
   "source": [
    "ll = ['a','a',3]\n",
    "ll.count('a')"
   ]
  },
  {
   "cell_type": "code",
   "execution_count": null,
   "id": "58622cbc",
   "metadata": {
    "ExecuteTime": {
     "end_time": "2023-02-09T06:20:02.191694Z",
     "start_time": "2023-02-09T06:20:02.177691Z"
    }
   },
   "outputs": [],
   "source": [
    "\n",
    "help(set)"
   ]
  },
  {
   "cell_type": "code",
   "execution_count": 23,
   "id": "5d78a864",
   "metadata": {
    "ExecuteTime": {
     "end_time": "2023-02-09T06:31:47.476418Z",
     "start_time": "2023-02-09T06:31:46.642729Z"
    }
   },
   "outputs": [
    {
     "name": "stdout",
     "output_type": "stream",
     "text": [
      "zZa\n",
      "Z\n"
     ]
    }
   ],
   "source": [
    "# 5 1157\n",
    "\n",
    "word = input().upper() # Mississipi 입력 + 대문자 전환\n",
    "word_set = set(word) # P, M, I, S\n",
    "cnt_lst = []\n",
    "\n",
    "for i in word_set:\n",
    "    cnt = word.count(i)\n",
    "    cnt_lst.append(cnt)  # [1,1,4,4]\n",
    "        \n",
    "if cnt_lst.count(max(cnt_lst)) >= 2: \n",
    "    print('?')\n",
    "else:\n",
    "    print(list(word_set)[cnt_lst.index(max(cnt_lst))]) # max의 값의 index 값 -> word_set에서 알파벳 찾기\n",
    "\n"
   ]
  },
  {
   "cell_type": "code",
   "execution_count": 77,
   "id": "a08b29ff",
   "metadata": {
    "ExecuteTime": {
     "end_time": "2023-02-11T08:07:50.809103Z",
     "start_time": "2023-02-11T08:07:50.225916Z"
    }
   },
   "outputs": [
    {
     "name": "stdout",
     "output_type": "stream",
     "text": [
      "The Curious Case of Benjamin Button\n",
      "6\n"
     ]
    }
   ],
   "source": [
    "# 6 1152\n",
    "\n",
    "user = input().split()\n",
    "print(len(user))"
   ]
  },
  {
   "cell_type": "code",
   "execution_count": 79,
   "id": "649135bf",
   "metadata": {
    "ExecuteTime": {
     "end_time": "2023-02-11T08:12:25.200889Z",
     "start_time": "2023-02-11T08:12:24.592433Z"
    }
   },
   "outputs": [
    {
     "name": "stdout",
     "output_type": "stream",
     "text": [
      "734 893\n",
      "437\n"
     ]
    }
   ],
   "source": [
    "# 7 2908\n",
    "\n",
    "a, b = input().split()\n",
    "a = int(a[2] + a[1] + a[0]) # a[::-1] 문자 역순 출력\n",
    "b = int(b[2] + b[1] + b[0]) # b[::-1]\n",
    "\n",
    "if a > b:\n",
    "    print(a)\n",
    "else:\n",
    "    print(b)\n"
   ]
  },
  {
   "cell_type": "code",
   "execution_count": 158,
   "id": "bfb8505e",
   "metadata": {
    "ExecuteTime": {
     "end_time": "2023-02-11T09:05:36.001470Z",
     "start_time": "2023-02-11T09:05:32.952858Z"
    }
   },
   "outputs": [
    {
     "name": "stdout",
     "output_type": "stream",
     "text": [
      "UNUCIC\n",
      "36\n"
     ]
    }
   ],
   "source": [
    "# 8 5622\n",
    "\n",
    "memory = input()\n",
    "dial = ['ABC', 'DEF', 'GHI', 'JKL', 'MNO', 'PQRS', 'TUV', 'WXYZ']\n",
    "total = 0\n",
    "\n",
    "for i in memory: # 글자 탐색 # W, A\n",
    "    for j in range(len(dial)): # dial 탐색\n",
    "        if i in dial[j]:  # 탐색하던 글자가 list 안의 string에 있다면  // list로 받아버리면 방법도 있음\n",
    "            total += (j + 3)\n",
    "print(total)\n"
   ]
  },
  {
   "cell_type": "code",
   "execution_count": 57,
   "id": "0854fd57",
   "metadata": {
    "ExecuteTime": {
     "end_time": "2023-02-14T08:25:44.142839Z",
     "start_time": "2023-02-14T08:25:43.647900Z"
    }
   },
   "outputs": [
    {
     "name": "stdout",
     "output_type": "stream",
     "text": [
      "ljes=njak\n",
      "ljes=njak\n",
      "ljes=njak\n",
      "ljes=njak\n",
      "ljes=njak\n",
      " es=njak\n",
      " es= ak\n",
      " e  ak\n",
      " e  ak\n",
      "6\n"
     ]
    }
   ],
   "source": [
    "# 9 2941\n",
    "\n",
    "user = input()  # ljes=njak\n",
    "word = ['c=', 'c-', 'dz=', 'd-', 'lj', 'nj', 's=', 'z=']\n",
    "cnt = 0\n",
    "\n",
    "for i in word:\n",
    "    if i in user:\n",
    "        cnt += user.count(i)\n",
    "        user = user.replace(i, ' ')\n",
    "    total = cnt + len(user.replace(' ', ''))\n",
    "print(total)\n",
    "    \n",
    "# 존재하는 문자들을 새로운 문자로 바꿔준 후 count 해 주는 방법도 있음"
   ]
  },
  {
   "cell_type": "code",
   "execution_count": null,
   "id": "5fac66c4",
   "metadata": {},
   "outputs": [],
   "source": []
  },
  {
   "cell_type": "code",
   "execution_count": 42,
   "id": "a6c1ed50",
   "metadata": {
    "ExecuteTime": {
     "end_time": "2023-02-14T08:20:01.649614Z",
     "start_time": "2023-02-14T08:20:01.644182Z"
    }
   },
   "outputs": [
    {
     "data": {
      "text/plain": [
       "'eak'"
      ]
     },
     "execution_count": 42,
     "metadata": {},
     "output_type": "execute_result"
    }
   ],
   "source": [
    "a='e  ak'\n",
    "a.replace(' ', '')"
   ]
  },
  {
   "cell_type": "code",
   "execution_count": 26,
   "id": "65258a62",
   "metadata": {
    "ExecuteTime": {
     "end_time": "2023-02-14T08:16:34.489756Z",
     "start_time": "2023-02-14T08:16:34.486165Z"
    }
   },
   "outputs": [
    {
     "name": "stdout",
     "output_type": "stream",
     "text": [
      "Help on built-in function len in module builtins:\n",
      "\n",
      "len(obj, /)\n",
      "    Return the number of items in a container.\n",
      "\n"
     ]
    }
   ],
   "source": [
    "help(len)"
   ]
  },
  {
   "cell_type": "code",
   "execution_count": 6,
   "id": "eaca6dcf",
   "metadata": {
    "ExecuteTime": {
     "end_time": "2023-02-14T08:06:37.965003Z",
     "start_time": "2023-02-14T08:06:37.957847Z"
    }
   },
   "outputs": [
    {
     "data": {
      "text/plain": [
       "''"
      ]
     },
     "execution_count": 6,
     "metadata": {},
     "output_type": "execute_result"
    }
   ],
   "source": [
    "a1 = 'sss'\n",
    "b1 = 's'\n",
    "a1.replace('s', '')"
   ]
  },
  {
   "cell_type": "code",
   "execution_count": null,
   "id": "301b579b",
   "metadata": {},
   "outputs": [],
   "source": []
  }
 ],
 "metadata": {
  "kernelspec": {
   "display_name": "Python 3 (ipykernel)",
   "language": "python",
   "name": "python3"
  },
  "language_info": {
   "codemirror_mode": {
    "name": "ipython",
    "version": 3
   },
   "file_extension": ".py",
   "mimetype": "text/x-python",
   "name": "python",
   "nbconvert_exporter": "python",
   "pygments_lexer": "ipython3",
   "version": "3.8.13"
  },
  "toc": {
   "base_numbering": 1,
   "nav_menu": {},
   "number_sections": false,
   "sideBar": true,
   "skip_h1_title": false,
   "title_cell": "Table of Contents",
   "title_sidebar": "Contents",
   "toc_cell": false,
   "toc_position": {},
   "toc_section_display": true,
   "toc_window_display": false
  }
 },
 "nbformat": 4,
 "nbformat_minor": 5
}
