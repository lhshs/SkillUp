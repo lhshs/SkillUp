{
 "cells": [
  {
   "cell_type": "code",
   "execution_count": null,
   "id": "fbd983ed",
   "metadata": {
    "ExecuteTime": {
     "end_time": "2023-02-09T05:50:14.547217Z",
     "start_time": "2023-02-09T05:50:13.840159Z"
    }
   },
   "outputs": [],
   "source": [
    "# 1 11654 ASCII\n",
    "\n",
    "user = ord(input())\n",
    "print(user)"
   ]
  },
  {
   "cell_type": "code",
   "execution_count": null,
   "id": "4aae2364",
   "metadata": {
    "ExecuteTime": {
     "end_time": "2023-02-08T07:46:01.770101Z",
     "start_time": "2023-02-08T07:45:55.899647Z"
    }
   },
   "outputs": [],
   "source": [
    "# 2 11720\n",
    "\n",
    "n = int(input())\n",
    "m = sum(map(int, str(input())))\n",
    "print(m)\n"
   ]
  },
  {
   "cell_type": "code",
   "execution_count": null,
   "id": "654d8cc2",
   "metadata": {
    "ExecuteTime": {
     "end_time": "2023-02-08T07:50:27.924664Z",
     "start_time": "2023-02-08T07:50:26.710033Z"
    }
   },
   "outputs": [],
   "source": [
    "# 2 n과 m을 다 활용한 풀이\n",
    "\n",
    "n = input()\n",
    "m = input()\n",
    "total = 0\n",
    "\n",
    "for i in range(int(n)): # input은 기본적으로 str로 받기 때문에, int로 변환\n",
    "    total += int(m[i]) # 0 ~ n-1 까지 더하기\n",
    "print(total)"
   ]
  },
  {
   "cell_type": "code",
   "execution_count": null,
   "id": "a4726361",
   "metadata": {
    "ExecuteTime": {
     "end_time": "2023-02-08T08:14:08.630717Z",
     "start_time": "2023-02-08T08:14:06.755138Z"
    }
   },
   "outputs": [],
   "source": [
    "# 3\n",
    "\n",
    "word = input()\n",
    "alphabet = ['a','b','c','d','e',\n",
    "            'f','g','h','i','j',\n",
    "            'k','l','m','n','o',\n",
    "            'p','q','r','s','t',\n",
    "            'u','v','w','x','y','z']\n",
    "# alphabet = 'abcdefghijklmnopqrstuvwxyz'\n",
    "\n",
    "for i in alphabet:\n",
    "    if i in word:\n",
    "        print(word.index(i), end = ' ')\n",
    "    else:\n",
    "        print(-1, end = ' ')\n",
    "\n"
   ]
  },
  {
   "cell_type": "code",
   "execution_count": null,
   "id": "809be59d",
   "metadata": {
    "ExecuteTime": {
     "end_time": "2023-02-08T08:39:17.675295Z",
     "start_time": "2023-02-08T08:39:11.914316Z"
    }
   },
   "outputs": [],
   "source": [
    "# 4 2675\n",
    "\n",
    "t = int(input())\n",
    "\n",
    "for i in range(t):\n",
    "    r, s = input().split()\n",
    "    for j in s:\n",
    "        print(int(r) * j, end = '')\n",
    "    print()\n"
   ]
  },
  {
   "cell_type": "code",
   "execution_count": null,
   "id": "dce7bb54",
   "metadata": {
    "ExecuteTime": {
     "end_time": "2023-02-09T05:35:11.320378Z",
     "start_time": "2023-02-09T05:35:11.315917Z"
    }
   },
   "outputs": [],
   "source": [
    "ll = ['a','a',3]\n",
    "ll.count('a')"
   ]
  },
  {
   "cell_type": "code",
   "execution_count": null,
   "id": "58622cbc",
   "metadata": {
    "ExecuteTime": {
     "end_time": "2023-02-09T06:20:02.191694Z",
     "start_time": "2023-02-09T06:20:02.177691Z"
    }
   },
   "outputs": [],
   "source": [
    "\n",
    "help(set)"
   ]
  },
  {
   "cell_type": "code",
   "execution_count": 23,
   "id": "5d78a864",
   "metadata": {
    "ExecuteTime": {
     "end_time": "2023-02-09T06:31:47.476418Z",
     "start_time": "2023-02-09T06:31:46.642729Z"
    }
   },
   "outputs": [
    {
     "name": "stdout",
     "output_type": "stream",
     "text": [
      "zZa\n",
      "Z\n"
     ]
    }
   ],
   "source": [
    "# 5\n",
    "\n",
    "user = list(input().upper()) # Mississipi\n",
    "user_word = set(user) # {M, I, S, P}\n",
    "cnt_lst = [] \n",
    "\n",
    "for i in user_word:\n",
    "    cnt = user.count(i) \n",
    "    cnt_lst.append(cnt) # [1, 4, 4, 1]\n",
    "    \n",
    "if cnt_lst.count(max(cnt_lst)) >= 2: # max(cnt_lst) = 4\n",
    "    print('?')\n",
    "else:\n",
    "    print(list(user_word)[(cnt_lst.index(max(cnt_lst)))])\n",
    "    \n"
   ]
  },
  {
   "cell_type": "code",
   "execution_count": 14,
   "id": "395bfa14",
   "metadata": {
    "ExecuteTime": {
     "end_time": "2023-02-09T06:26:47.576588Z",
     "start_time": "2023-02-09T06:26:47.561927Z"
    }
   },
   "outputs": [
    {
     "name": "stdout",
     "output_type": "stream",
     "text": [
      "Help on class set in module builtins:\n",
      "\n",
      "class set(object)\n",
      " |  set() -> new empty set object\n",
      " |  set(iterable) -> new set object\n",
      " |  \n",
      " |  Build an unordered collection of unique elements.\n",
      " |  \n",
      " |  Methods defined here:\n",
      " |  \n",
      " |  __and__(self, value, /)\n",
      " |      Return self&value.\n",
      " |  \n",
      " |  __contains__(...)\n",
      " |      x.__contains__(y) <==> y in x.\n",
      " |  \n",
      " |  __eq__(self, value, /)\n",
      " |      Return self==value.\n",
      " |  \n",
      " |  __ge__(self, value, /)\n",
      " |      Return self>=value.\n",
      " |  \n",
      " |  __getattribute__(self, name, /)\n",
      " |      Return getattr(self, name).\n",
      " |  \n",
      " |  __gt__(self, value, /)\n",
      " |      Return self>value.\n",
      " |  \n",
      " |  __iand__(self, value, /)\n",
      " |      Return self&=value.\n",
      " |  \n",
      " |  __init__(self, /, *args, **kwargs)\n",
      " |      Initialize self.  See help(type(self)) for accurate signature.\n",
      " |  \n",
      " |  __ior__(self, value, /)\n",
      " |      Return self|=value.\n",
      " |  \n",
      " |  __isub__(self, value, /)\n",
      " |      Return self-=value.\n",
      " |  \n",
      " |  __iter__(self, /)\n",
      " |      Implement iter(self).\n",
      " |  \n",
      " |  __ixor__(self, value, /)\n",
      " |      Return self^=value.\n",
      " |  \n",
      " |  __le__(self, value, /)\n",
      " |      Return self<=value.\n",
      " |  \n",
      " |  __len__(self, /)\n",
      " |      Return len(self).\n",
      " |  \n",
      " |  __lt__(self, value, /)\n",
      " |      Return self<value.\n",
      " |  \n",
      " |  __ne__(self, value, /)\n",
      " |      Return self!=value.\n",
      " |  \n",
      " |  __or__(self, value, /)\n",
      " |      Return self|value.\n",
      " |  \n",
      " |  __rand__(self, value, /)\n",
      " |      Return value&self.\n",
      " |  \n",
      " |  __reduce__(...)\n",
      " |      Return state information for pickling.\n",
      " |  \n",
      " |  __repr__(self, /)\n",
      " |      Return repr(self).\n",
      " |  \n",
      " |  __ror__(self, value, /)\n",
      " |      Return value|self.\n",
      " |  \n",
      " |  __rsub__(self, value, /)\n",
      " |      Return value-self.\n",
      " |  \n",
      " |  __rxor__(self, value, /)\n",
      " |      Return value^self.\n",
      " |  \n",
      " |  __sizeof__(...)\n",
      " |      S.__sizeof__() -> size of S in memory, in bytes\n",
      " |  \n",
      " |  __sub__(self, value, /)\n",
      " |      Return self-value.\n",
      " |  \n",
      " |  __xor__(self, value, /)\n",
      " |      Return self^value.\n",
      " |  \n",
      " |  add(...)\n",
      " |      Add an element to a set.\n",
      " |      \n",
      " |      This has no effect if the element is already present.\n",
      " |  \n",
      " |  clear(...)\n",
      " |      Remove all elements from this set.\n",
      " |  \n",
      " |  copy(...)\n",
      " |      Return a shallow copy of a set.\n",
      " |  \n",
      " |  difference(...)\n",
      " |      Return the difference of two or more sets as a new set.\n",
      " |      \n",
      " |      (i.e. all elements that are in this set but not the others.)\n",
      " |  \n",
      " |  difference_update(...)\n",
      " |      Remove all elements of another set from this set.\n",
      " |  \n",
      " |  discard(...)\n",
      " |      Remove an element from a set if it is a member.\n",
      " |      \n",
      " |      If the element is not a member, do nothing.\n",
      " |  \n",
      " |  intersection(...)\n",
      " |      Return the intersection of two sets as a new set.\n",
      " |      \n",
      " |      (i.e. all elements that are in both sets.)\n",
      " |  \n",
      " |  intersection_update(...)\n",
      " |      Update a set with the intersection of itself and another.\n",
      " |  \n",
      " |  isdisjoint(...)\n",
      " |      Return True if two sets have a null intersection.\n",
      " |  \n",
      " |  issubset(...)\n",
      " |      Report whether another set contains this set.\n",
      " |  \n",
      " |  issuperset(...)\n",
      " |      Report whether this set contains another set.\n",
      " |  \n",
      " |  pop(...)\n",
      " |      Remove and return an arbitrary set element.\n",
      " |      Raises KeyError if the set is empty.\n",
      " |  \n",
      " |  remove(...)\n",
      " |      Remove an element from a set; it must be a member.\n",
      " |      \n",
      " |      If the element is not a member, raise a KeyError.\n",
      " |  \n",
      " |  symmetric_difference(...)\n",
      " |      Return the symmetric difference of two sets as a new set.\n",
      " |      \n",
      " |      (i.e. all elements that are in exactly one of the sets.)\n",
      " |  \n",
      " |  symmetric_difference_update(...)\n",
      " |      Update a set with the symmetric difference of itself and another.\n",
      " |  \n",
      " |  union(...)\n",
      " |      Return the union of sets as a new set.\n",
      " |      \n",
      " |      (i.e. all elements that are in either set.)\n",
      " |  \n",
      " |  update(...)\n",
      " |      Update a set with the union of itself and others.\n",
      " |  \n",
      " |  ----------------------------------------------------------------------\n",
      " |  Static methods defined here:\n",
      " |  \n",
      " |  __new__(*args, **kwargs) from builtins.type\n",
      " |      Create and return a new object.  See help(type) for accurate signature.\n",
      " |  \n",
      " |  ----------------------------------------------------------------------\n",
      " |  Data and other attributes defined here:\n",
      " |  \n",
      " |  __hash__ = None\n",
      "\n"
     ]
    }
   ],
   "source": [
    "sss = {4,5,6}\n",
    "help(set)"
   ]
  },
  {
   "cell_type": "code",
   "execution_count": 19,
   "id": "ea52a8f2",
   "metadata": {
    "ExecuteTime": {
     "end_time": "2023-02-09T06:30:25.647712Z",
     "start_time": "2023-02-09T06:30:25.643257Z"
    }
   },
   "outputs": [
    {
     "data": {
      "text/plain": [
       "1"
      ]
     },
     "execution_count": 19,
     "metadata": {},
     "output_type": "execute_result"
    }
   ],
   "source": [
    "ll = [1,2,3]\n",
    "ll.index(2)"
   ]
  },
  {
   "cell_type": "code",
   "execution_count": null,
   "id": "a4bde9ad",
   "metadata": {},
   "outputs": [],
   "source": [
    "# 6\n",
    "\n"
   ]
  }
 ],
 "metadata": {
  "kernelspec": {
   "display_name": "Python 3 (ipykernel)",
   "language": "python",
   "name": "python3"
  },
  "language_info": {
   "codemirror_mode": {
    "name": "ipython",
    "version": 3
   },
   "file_extension": ".py",
   "mimetype": "text/x-python",
   "name": "python",
   "nbconvert_exporter": "python",
   "pygments_lexer": "ipython3",
   "version": "3.8.13"
  },
  "toc": {
   "base_numbering": 1,
   "nav_menu": {},
   "number_sections": false,
   "sideBar": true,
   "skip_h1_title": false,
   "title_cell": "Table of Contents",
   "title_sidebar": "Contents",
   "toc_cell": false,
   "toc_position": {},
   "toc_section_display": true,
   "toc_window_display": false
  }
 },
 "nbformat": 4,
 "nbformat_minor": 5
}
