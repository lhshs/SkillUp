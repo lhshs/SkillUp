{
 "cells": [
  {
   "cell_type": "code",
   "execution_count": 10,
   "id": "6e2415f6",
   "metadata": {
    "ExecuteTime": {
     "end_time": "2023-02-16T04:33:54.897847Z",
     "start_time": "2023-02-16T04:33:54.398252Z"
    }
   },
   "outputs": [
    {
     "name": "stdout",
     "output_type": "stream",
     "text": [
      "2100000000 9 10\n",
      "2100000001\n"
     ]
    }
   ],
   "source": [
    "# 1 손익분기점 1712\n",
    "\n",
    "a, b, c = map(int, input().split())\n",
    "\n",
    "if c <= b:\n",
    "    print(-1)\n",
    "else:\n",
    "    print((a // (c - b)) + 1) # 몫을 출력하는 발상\n"
   ]
  },
  {
   "cell_type": "code",
   "execution_count": null,
   "id": "d0b36cd3",
   "metadata": {},
   "outputs": [],
   "source": [
    "# 2 벌집 2292\n",
    "\n"
   ]
  },
  {
   "cell_type": "code",
   "execution_count": 38,
   "id": "b3fa0ccf",
   "metadata": {
    "ExecuteTime": {
     "end_time": "2023-02-16T05:00:33.973694Z",
     "start_time": "2023-02-16T05:00:28.764223Z"
    }
   },
   "outputs": [
    {
     "name": "stdout",
     "output_type": "stream",
     "text": [
      "2\n",
      "6 12 10\n",
      "402\n",
      "30 50 72\n",
      "1203\n"
     ]
    }
   ],
   "source": [
    "# 10250 ACM 호텔\n",
    "\n",
    "cust = int(input())\n",
    "\n",
    "for _ in range(cust):\n",
    "    h, w, n = map(int, input().split())\n",
    "    lst = []\n",
    "    for j in range(1, w + 1): # 호수 별\n",
    "        for i in range(1, h + 1): # 층수 별\n",
    "            if j < 10:\n",
    "                a = str(i) + '0' + str(j)\n",
    "                lst.append(a)\n",
    "            else:\n",
    "                b = str(i) + str(j)\n",
    "                lst.append(b)\n",
    "    print(lst[n-1])"
   ]
  },
  {
   "cell_type": "code",
   "execution_count": 37,
   "id": "b16772dd",
   "metadata": {
    "ExecuteTime": {
     "end_time": "2023-02-16T04:59:46.701869Z",
     "start_time": "2023-02-16T04:59:46.698655Z"
    }
   },
   "outputs": [
    {
     "name": "stdout",
     "output_type": "stream",
     "text": [
      "0\n",
      "1\n"
     ]
    }
   ],
   "source": [
    "for l in range(2):\n",
    "    print(l)"
   ]
  },
  {
   "cell_type": "code",
   "execution_count": null,
   "id": "512eb15e",
   "metadata": {},
   "outputs": [],
   "source": []
  }
 ],
 "metadata": {
  "kernelspec": {
   "display_name": "Python 3 (ipykernel)",
   "language": "python",
   "name": "python3"
  },
  "language_info": {
   "codemirror_mode": {
    "name": "ipython",
    "version": 3
   },
   "file_extension": ".py",
   "mimetype": "text/x-python",
   "name": "python",
   "nbconvert_exporter": "python",
   "pygments_lexer": "ipython3",
   "version": "3.8.13"
  },
  "toc": {
   "base_numbering": 1,
   "nav_menu": {},
   "number_sections": false,
   "sideBar": true,
   "skip_h1_title": false,
   "title_cell": "Table of Contents",
   "title_sidebar": "Contents",
   "toc_cell": false,
   "toc_position": {},
   "toc_section_display": true,
   "toc_window_display": false
  }
 },
 "nbformat": 4,
 "nbformat_minor": 5
}
