{
 "cells": [
  {
   "cell_type": "code",
   "execution_count": 3,
   "id": "df2d49c9",
   "metadata": {
    "ExecuteTime": {
     "end_time": "2022-12-16T11:08:17.398349Z",
     "start_time": "2022-12-16T11:08:16.102364Z"
    }
   },
   "outputs": [
    {
     "name": "stdout",
     "output_type": "stream",
     "text": [
      "5 5\n",
      "==\n"
     ]
    }
   ],
   "source": [
    "# 1\n",
    "\n",
    "A, B = map(int, input().split())\n",
    "\n",
    "if A > B:\n",
    "    print('>')\n",
    "elif A < B:\n",
    "    print('<')\n",
    "else:\n",
    "    print('==')"
   ]
  },
  {
   "cell_type": "code",
   "execution_count": 11,
   "id": "82d34341",
   "metadata": {
    "ExecuteTime": {
     "end_time": "2022-12-16T11:12:12.726430Z",
     "start_time": "2022-12-16T11:12:11.128695Z"
    }
   },
   "outputs": [
    {
     "name": "stdout",
     "output_type": "stream",
     "text": [
      "100\n",
      "A\n"
     ]
    }
   ],
   "source": [
    "# 2\n",
    "\n",
    "score = int(input())\n",
    "\n",
    "if score >= 90 and score <= 100:\n",
    "    print('A')\n",
    "elif score >= 80 and score <= 89:\n",
    "    print('B')\n",
    "elif score >= 70 and score <= 79:\n",
    "    print('C')\n",
    "elif score >= 60 and score <= 69:\n",
    "    print('D')\n",
    "else:\n",
    "    print('F')"
   ]
  },
  {
   "cell_type": "code",
   "execution_count": 19,
   "id": "77029934",
   "metadata": {
    "ExecuteTime": {
     "end_time": "2022-12-16T11:18:31.064460Z",
     "start_time": "2022-12-16T11:18:29.083157Z"
    }
   },
   "outputs": [
    {
     "name": "stdout",
     "output_type": "stream",
     "text": [
      "2000\n",
      "1\n"
     ]
    }
   ],
   "source": [
    "# 3\n",
    "\n",
    "x = int(input())\n",
    "\n",
    "if (x % 4 == 0) and ((x % 400 == 0) or (x % 100 != 0)):\n",
    "    print(1)\n",
    "else:\n",
    "    print(0)"
   ]
  },
  {
   "cell_type": "code",
   "execution_count": 4,
   "id": "affdff27",
   "metadata": {
    "ExecuteTime": {
     "end_time": "2022-12-17T09:46:57.192634Z",
     "start_time": "2022-12-17T09:46:52.017484Z"
    }
   },
   "outputs": [
    {
     "name": "stdout",
     "output_type": "stream",
     "text": [
      "12\n",
      "4\n",
      "1\n"
     ]
    }
   ],
   "source": [
    "# 4\n",
    "\n",
    "x = int(input())\n",
    "y = int(input())\n",
    "\n",
    "if x > 0 and y > 0:\n",
    "    print('1')\n",
    "elif x < 0 and y > 0:\n",
    "    print('2')\n",
    "elif x < 0 and y < 0:\n",
    "    print('3')\n",
    "else:\n",
    "    print('4')"
   ]
  },
  {
   "cell_type": "code",
   "execution_count": 15,
   "id": "9cb6d2ef",
   "metadata": {
    "ExecuteTime": {
     "end_time": "2022-12-17T09:58:36.178100Z",
     "start_time": "2022-12-17T09:58:34.455283Z"
    }
   },
   "outputs": [
    {
     "name": "stdout",
     "output_type": "stream",
     "text": [
      "23 40\n",
      "22 55\n"
     ]
    }
   ],
   "source": [
    "# 5\n",
    "\n",
    "h, m = map(int, input().split())\n",
    "\n",
    "if m >= 45:\n",
    "    print(h, m-45)\n",
    "elif m < 45 and h == 0 :\n",
    "    print(23, m+15)\n",
    "elif m < 45 and h != 0:\n",
    "    print(h-1, m+15)\n",
    "    "
   ]
  },
  {
   "cell_type": "code",
   "execution_count": 13,
   "id": "8961ac7a",
   "metadata": {
    "ExecuteTime": {
     "end_time": "2023-01-03T13:23:02.540139Z",
     "start_time": "2023-01-03T13:22:59.298664Z"
    }
   },
   "outputs": [
    {
     "name": "stdout",
     "output_type": "stream",
     "text": [
      "23 48\n",
      "25\n",
      "0 13\n"
     ]
    }
   ],
   "source": [
    "# 6\n",
    "\n",
    "a, b = map(int, input().split())\n",
    "c = int(input())\n",
    "\n",
    "hour = (b+c) // 60\n",
    "min = (b+c) % 60\n",
    "\n",
    "if b+c < 60:\n",
    "    print(a, b+c)\n",
    "    \n",
    "elif b+c >= 60:\n",
    "    if a+hour >= 24:\n",
    "        print(a+ hour - 24 , min)\n",
    "    else:\n",
    "        print(a+hour, min)"
   ]
  },
  {
   "cell_type": "code",
   "execution_count": 24,
   "id": "033ab3b7",
   "metadata": {
    "ExecuteTime": {
     "end_time": "2023-01-03T13:56:37.523640Z",
     "start_time": "2023-01-03T13:56:34.241639Z"
    }
   },
   "outputs": [
    {
     "name": "stdout",
     "output_type": "stream",
     "text": [
      "6 2 5\n",
      "600\n"
     ]
    }
   ],
   "source": [
    "# 7\n",
    "\n",
    "a, b, c = map(int, input().split())\n",
    "max_num = max(a, b, c)\n",
    "\n",
    "if a == b == c:\n",
    "    print(10000+a*1000)\n",
    "elif a == b != c:\n",
    "    print(1000 + a*100)\n",
    "elif a != b == c:\n",
    "    print(1000 + b*100)\n",
    "elif a == c != b:\n",
    "    print(1000 + c*100)\n",
    "else:\n",
    "    print(max_num*100)\n"
   ]
  },
  {
   "cell_type": "code",
   "execution_count": null,
   "id": "9f9f54c0",
   "metadata": {},
   "outputs": [],
   "source": []
  }
 ],
 "metadata": {
  "kernelspec": {
   "display_name": "Python 3 (ipykernel)",
   "language": "python",
   "name": "python3"
  },
  "language_info": {
   "codemirror_mode": {
    "name": "ipython",
    "version": 3
   },
   "file_extension": ".py",
   "mimetype": "text/x-python",
   "name": "python",
   "nbconvert_exporter": "python",
   "pygments_lexer": "ipython3",
   "version": "3.9.12"
  },
  "toc": {
   "base_numbering": 1,
   "nav_menu": {},
   "number_sections": false,
   "sideBar": true,
   "skip_h1_title": false,
   "title_cell": "Table of Contents",
   "title_sidebar": "Contents",
   "toc_cell": false,
   "toc_position": {},
   "toc_section_display": true,
   "toc_window_display": false
  }
 },
 "nbformat": 4,
 "nbformat_minor": 5
}
