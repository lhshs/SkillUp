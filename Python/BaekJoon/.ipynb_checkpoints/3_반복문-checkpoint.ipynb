{
 "cells": [
  {
   "cell_type": "code",
   "execution_count": null,
   "id": "9c3569c9",
   "metadata": {},
   "outputs": [],
   "source": [
    "# 1\n",
    "\n"
   ]
  },
  {
   "cell_type": "code",
   "execution_count": null,
   "id": "167f70c6",
   "metadata": {},
   "outputs": [],
   "source": [
    "# 2\n",
    "\n"
   ]
  },
  {
   "cell_type": "code",
   "execution_count": null,
   "id": "dfdf6091",
   "metadata": {},
   "outputs": [],
   "source": [
    "# 3\n",
    "\n"
   ]
  },
  {
   "cell_type": "code",
   "execution_count": null,
   "id": "fb96486e",
   "metadata": {},
   "outputs": [],
   "source": [
    "# 4\n",
    "\n"
   ]
  },
  {
   "cell_type": "code",
   "execution_count": null,
   "id": "fe3f5c9b",
   "metadata": {},
   "outputs": [],
   "source": [
    "# 5\n",
    "\n"
   ]
  },
  {
   "cell_type": "code",
   "execution_count": null,
   "id": "781ac858",
   "metadata": {},
   "outputs": [],
   "source": [
    "# 6\n",
    "\n"
   ]
  },
  {
   "cell_type": "code",
   "execution_count": null,
   "id": "706b35ea",
   "metadata": {},
   "outputs": [],
   "source": [
    "# 7\n",
    "\n"
   ]
  },
  {
   "cell_type": "code",
   "execution_count": null,
   "id": "266d3530",
   "metadata": {},
   "outputs": [],
   "source": [
    "# 8\n",
    "\n"
   ]
  },
  {
   "cell_type": "code",
   "execution_count": null,
   "id": "b0443121",
   "metadata": {},
   "outputs": [],
   "source": [
    "# 9\n",
    "\n"
   ]
  },
  {
   "cell_type": "code",
   "execution_count": null,
   "id": "d4379201",
   "metadata": {},
   "outputs": [],
   "source": [
    "# 10\n",
    "\n"
   ]
  },
  {
   "cell_type": "code",
   "execution_count": null,
   "id": "04cf4bd7",
   "metadata": {},
   "outputs": [],
   "source": [
    "# 11\n",
    "\n"
   ]
  },
  {
   "cell_type": "code",
   "execution_count": null,
   "id": "3356de54",
   "metadata": {},
   "outputs": [],
   "source": [
    "# 12\n",
    "\n"
   ]
  }
 ],
 "metadata": {
  "kernelspec": {
   "display_name": "Python 3 (ipykernel)",
   "language": "python",
   "name": "python3"
  },
  "language_info": {
   "codemirror_mode": {
    "name": "ipython",
    "version": 3
   },
   "file_extension": ".py",
   "mimetype": "text/x-python",
   "name": "python",
   "nbconvert_exporter": "python",
   "pygments_lexer": "ipython3",
   "version": "3.9.12"
  },
  "toc": {
   "base_numbering": 1,
   "nav_menu": {},
   "number_sections": true,
   "sideBar": true,
   "skip_h1_title": false,
   "title_cell": "Table of Contents",
   "title_sidebar": "Contents",
   "toc_cell": false,
   "toc_position": {},
   "toc_section_display": true,
   "toc_window_display": false
  }
 },
 "nbformat": 4,
 "nbformat_minor": 5
}
