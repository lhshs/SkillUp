{
 "cells": [
  {
   "cell_type": "code",
   "execution_count": 1,
   "id": "b3970836",
   "metadata": {
    "ExecuteTime": {
     "end_time": "2022-12-15T16:28:16.838118Z",
     "start_time": "2022-12-15T16:28:16.821157Z"
    }
   },
   "outputs": [
    {
     "name": "stdout",
     "output_type": "stream",
     "text": [
      "Hello World!\n"
     ]
    }
   ],
   "source": [
    "# 1\n",
    "\n",
    "print('Hello World!')"
   ]
  },
  {
   "cell_type": "code",
   "execution_count": 6,
   "id": "7a5c91bf",
   "metadata": {
    "ExecuteTime": {
     "end_time": "2022-12-15T16:32:34.950071Z",
     "start_time": "2022-12-15T16:32:33.035749Z"
    }
   },
   "outputs": [
    {
     "name": "stdout",
     "output_type": "stream",
     "text": [
      "1 2\n",
      "3\n"
     ]
    }
   ],
   "source": [
    "# 2\n",
    "\n",
    "A, B = input().split()\n",
    "print(int(A) + int(B))"
   ]
  },
  {
   "cell_type": "code",
   "execution_count": 7,
   "id": "8435692a",
   "metadata": {
    "ExecuteTime": {
     "end_time": "2022-12-15T16:34:40.669390Z",
     "start_time": "2022-12-15T16:34:37.506671Z"
    }
   },
   "outputs": [
    {
     "name": "stdout",
     "output_type": "stream",
     "text": [
      "3 2\n",
      "1\n"
     ]
    }
   ],
   "source": [
    "# 3\n",
    "\n",
    "A, B = input().split()\n",
    "print(int(A)-int(B))"
   ]
  },
  {
   "cell_type": "code",
   "execution_count": null,
   "id": "3d3fc527",
   "metadata": {},
   "outputs": [],
   "source": [
    "# 4\n",
    "\n",
    "A,B = input().split()\n",
    "print(int(A)*int(B))"
   ]
  },
  {
   "cell_type": "code",
   "execution_count": null,
   "id": "36ee77fd",
   "metadata": {},
   "outputs": [],
   "source": [
    "# 5\n",
    "\n",
    "A,B = input().split()\n",
    "print(int(A)/int(B))"
   ]
  },
  {
   "cell_type": "code",
   "execution_count": 34,
   "id": "0c785a3d",
   "metadata": {
    "ExecuteTime": {
     "end_time": "2022-12-15T16:56:55.991500Z",
     "start_time": "2022-12-15T16:56:54.218471Z"
    }
   },
   "outputs": [
    {
     "name": "stdout",
     "output_type": "stream",
     "text": [
      "7 3\n",
      "10\n",
      "4\n",
      "21\n",
      "2\n",
      "1\n"
     ]
    }
   ],
   "source": [
    "# 6\n",
    "\n",
    "A,B = map(int, input().split())\n",
    "# A = int(A)\n",
    "# B = int(B) # 이렇게 복잡하게 선언해주는 대신 map 함수로 간단하게 가능!\n",
    "print(A+B)\n",
    "print(A-B)\n",
    "print(A*B)\n",
    "print(A//B) # 몫만 나와야 하므로 //\n",
    "print(A%B)"
   ]
  },
  {
   "cell_type": "code",
   "execution_count": 12,
   "id": "100d0da2",
   "metadata": {
    "ExecuteTime": {
     "end_time": "2022-12-15T16:43:19.405851Z",
     "start_time": "2022-12-15T16:43:16.474490Z"
    }
   },
   "outputs": [
    {
     "name": "stdout",
     "output_type": "stream",
     "text": [
      "lhshs\n",
      "lhshs ??!\n"
     ]
    }
   ],
   "source": [
    "# 7\n",
    "\n",
    "x = input()\n",
    "print(x,'??!')"
   ]
  },
  {
   "cell_type": "code",
   "execution_count": 14,
   "id": "d33f9c65",
   "metadata": {
    "ExecuteTime": {
     "end_time": "2022-12-15T16:44:48.629981Z",
     "start_time": "2022-12-15T16:44:45.605045Z"
    }
   },
   "outputs": [
    {
     "name": "stdout",
     "output_type": "stream",
     "text": [
      "2541\n",
      "1998\n"
     ]
    }
   ],
   "source": [
    "# 8\n",
    "\n",
    "x = int(input())\n",
    "print(x-543)"
   ]
  },
  {
   "cell_type": "code",
   "execution_count": 28,
   "id": "18e3cf63",
   "metadata": {
    "ExecuteTime": {
     "end_time": "2022-12-15T16:52:43.279406Z",
     "start_time": "2022-12-15T16:52:42.461704Z"
    }
   },
   "outputs": [
    {
     "name": "stdout",
     "output_type": "stream",
     "text": [
      "0 1 2 2 2 7\n",
      "1\n",
      "0\n",
      "0\n",
      "0\n",
      "0\n",
      "1\n"
     ]
    }
   ],
   "source": [
    "# 9\n",
    "\n",
    "# [1, 1, 2, 2, 2, 8]\n",
    "\n",
    "x = list(map(int, input().split()))\n",
    "all = [1, 1, 2, 2, 2, 8]\n",
    "\n",
    "for i in range(6):\n",
    "    print(all[i] - x[i])"
   ]
  },
  {
   "cell_type": "code",
   "execution_count": 33,
   "id": "7ed12214",
   "metadata": {
    "ExecuteTime": {
     "end_time": "2022-12-15T16:56:06.143893Z",
     "start_time": "2022-12-15T16:56:03.265548Z"
    }
   },
   "outputs": [
    {
     "name": "stdout",
     "output_type": "stream",
     "text": [
      "5 8 4\n",
      "1\n",
      "1\n",
      "0\n",
      "0\n"
     ]
    }
   ],
   "source": [
    "# 10\n",
    "\n",
    "A, B, C = map(int, input().split())\n",
    "print((A + B) % C)\n",
    "print(((A % C) + (B % C)) % C)\n",
    "print((A * B) % C)\n",
    "print(((A % C) * (B % C)) % C)"
   ]
  },
  {
   "cell_type": "code",
   "execution_count": null,
   "id": "c23d2fa8",
   "metadata": {},
   "outputs": [],
   "source": [
    "# 11"
   ]
  },
  {
   "cell_type": "code",
   "execution_count": null,
   "id": "a3bc6b7c",
   "metadata": {},
   "outputs": [],
   "source": [
    "# 12"
   ]
  },
  {
   "cell_type": "code",
   "execution_count": null,
   "id": "175cd453",
   "metadata": {},
   "outputs": [],
   "source": [
    "# 13"
   ]
  },
  {
   "cell_type": "code",
   "execution_count": null,
   "id": "5dc9a41f",
   "metadata": {},
   "outputs": [],
   "source": [
    "# 14"
   ]
  }
 ],
 "metadata": {
  "kernelspec": {
   "display_name": "Python 3 (ipykernel)",
   "language": "python",
   "name": "python3"
  },
  "language_info": {
   "codemirror_mode": {
    "name": "ipython",
    "version": 3
   },
   "file_extension": ".py",
   "mimetype": "text/x-python",
   "name": "python",
   "nbconvert_exporter": "python",
   "pygments_lexer": "ipython3",
   "version": "3.8.13"
  }
 },
 "nbformat": 4,
 "nbformat_minor": 5
}
